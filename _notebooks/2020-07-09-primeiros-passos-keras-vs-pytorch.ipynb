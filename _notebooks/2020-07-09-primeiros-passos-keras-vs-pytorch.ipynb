{
  "nbformat": 4,
  "nbformat_minor": 0,
  "metadata": {
    "colab": {
      "name": "2020-07-08-primeiros-passos-keras-vs-pytorch.ipynb",
      "provenance": [],
      "collapsed_sections": []
    },
    "kernelspec": {
      "name": "python3",
      "display_name": "Python 3"
    }
  },
  "cells": [
    {
      "cell_type": "markdown",
      "metadata": {
        "id": "GX-220qM_Bfd",
        "colab_type": "text"
      },
      "source": [
        "# Primeiros passos com Deep Learning: Keras vs Pytorch\n",
        "> Qual dos dois usar se eu estou começando com Deep Learning.\n",
        "\n",
        "- toc: false\n",
        "- branch: master\n",
        "- badges: false\n",
        "- comments: true\n",
        "- author: Cássia Sampaio\n",
        "- categories: [datascience, keras, pytorch, deep learning]"
      ]
    },
    {
      "cell_type": "markdown",
      "metadata": {
        "id": "5o21shTs_Ya3",
        "colab_type": "text"
      },
      "source": [
        "Quando queremos começar a fazer alguma coisa em **Aprendizado Profundo de Máquina** ou **Deep Learning** pode bater aquela dúvida, \n",
        "> por onde eu começo?\n",
        "\n",
        "E geralmente quando bate essa dúvida ela é direcionada para o que é mais usado para Deep Learning na comunidade de ciência de dados:\n",
        "> **Keras** e **PyTorch**\n",
        "\n",
        " Quais são as diferenças entre os dois e por qual começar? Vamos tentar esclarecer essas dúvidas."
      ]
    },
    {
      "cell_type": "markdown",
      "metadata": {
        "id": "Q-eO0ZLzBQN_",
        "colab_type": "text"
      },
      "source": [
        "## Quais são as diferenças entre Keras e PyTorch?\n",
        "\n",
        "Ambos são estruturas que facilitam o desenvolvimento de implementações de Deep Learning, por isso são chamados de **frameworks**. Tanto o Keras quando o PyTorch procuram **facilitar** os processos de:\n",
        "- preparação de dados\n",
        "- construção do modelo\n",
        "- treinamento do modelo\n",
        "- salvamento e reutilização do modelo\n",
        "- teste do modelo\n",
        "- métricas do modelo\n",
        "\n",
        "Ambos também fazem isso usando a linguagem **Python**. E nos dois podemos usar **GPUs** para processar nossos dados.\n",
        "\n",
        "Até agora sabemos algumas semelhanças. \n",
        "\n",
        "Os dois são frameworks, ambos procuram facilitar o ciclo de vida do desenvolvimento de Deep Learning, podemos usá-los com Python e com uma GPU.\n",
        "\n",
        "\n",
        "\n"
      ]
    },
    {
      "cell_type": "markdown",
      "metadata": {
        "id": "OrA3Zj6POOWF",
        "colab_type": "text"
      },
      "source": [
        "### O que é o Keras?\n",
        "\n",
        "O Keras era um projeto de uma pessoa que se chama François Chollet. É possível usar o Keras como uma camada superior que permite acessar partes mais complexas de backends para Deep learning. Até hoje ele se descreve como uma **API** de Deep Learning. \n",
        "\n",
        "Ao usar o Keras, é possível escolher como backend:\n",
        "- Theano\n",
        "- Tensorflow\n",
        "- CNTK\n",
        "\n",
        "Como o uso do Keras com o **Tensorflow** foi ficando cada vez mais frequente, o François foi contratado pela **Google** e cada vez mais o Keras fica unido com o Tensorflow.\n",
        "\n",
        "Por ser uma camada superior de acesso, muitas vezes se é necessário acessar camadas mais profundas é preciso entender também do backend que está sendo usado."
      ]
    },
    {
      "cell_type": "markdown",
      "metadata": {
        "id": "X0S0zaz0OTcC",
        "colab_type": "text"
      },
      "source": [
        "### O que é o PyTorch?\n",
        "\n",
        "O PyTorch foi desenvolvido por um grupo de pesquisa de inteligência artificial do **Facebook** chamado **FAIR** (Facebook Artificial Intelligence Research). No início havia apenas o **Torch** e depois envolveram o Torch no Python, fazendo um Python **wrapper** e foi criado o PyTorch.\n",
        "\n",
        "Diferentemente do Keras, o Pytorch não é uma camada superior que permite que você use diferentes backends, ele é uma mistura de código que facilita o acesso superior às suas camadas mais profundas com código que reflete a necessidade de acesso à essas camadas profundas.\n",
        "\n",
        "Neste caso, o PyTorch se torna um framework que mistura o alto nível com o baixo nível, sendo **high-level** e **low-level** simultaneamente quanto aos acessos de suas camadas.\n"
      ]
    },
    {
      "cell_type": "markdown",
      "metadata": {
        "id": "f1j7ibfJEeDL",
        "colab_type": "text"
      },
      "source": [
        "## Começo por Keras ou por PyTorch?\n",
        "\n",
        "Depende.\n",
        "\n",
        "Se considerarmos que o objetivo é o início do aprendizado e que queremos entender como fazemos um modelo de Deep learning, a sugestão é **Keras**.\n",
        "\n",
        "O Keras acaba sendo mais popular que o PyTorch por enquanto. \n",
        "\n",
        "Há mais tutoriais e exemplos de implementações disponíveis na web, escrever o código é mais alto nível, e é o framework mais usado em [competições ganhadoras do Kaggle](https://www.kaggle.com/getting-started/151903) dado a sua praticidade.\n",
        "\n",
        "E ao ir se aprofundando nos estudos é interessante aprender os backends, então entender o Tensorflow, o Theano, o CNTK. \n",
        "\n",
        "Podemos ter recomendado o Keras agora, no entanto a comunidade do PyTorch está crescendo e podem acontecer mudanças no futuro.\n"
      ]
    },
    {
      "cell_type": "markdown",
      "metadata": {
        "id": "t10djOJ-QBb4",
        "colab_type": "text"
      },
      "source": [
        "\n",
        "---\n"
      ]
    },
    {
      "cell_type": "markdown",
      "metadata": {
        "id": "UyRrIVcpOXSH",
        "colab_type": "text"
      },
      "source": [
        "## Mais informações\n",
        "\n",
        "O início por Keras é uma sugestão. \n",
        "\n",
        "Também recomendamos que você teste e faça um exemplo simples com cada um deles e entenda qual flui melhor.\n",
        "\n",
        "No final, o framework mais legal para você estudar também tem a ver com aquele que você se sente mais confortável usando. \n",
        "\n",
        "Dê uma olhada nos sites e veja qual lhe parece mais interessante:\n",
        "\n",
        "[Site do Keras](https://keras.io/)\n",
        "\n",
        "[Site do PyTorch](https://pytorch.org/)\n",
        "\n",
        "Também há tutoriais para que você tenha uma idéia do que é usar cada um deles:\n",
        "\n",
        "[Tutoriais do Keras](https://keras.io/examples/)\n",
        "\n",
        "[Tutoriais do PyTorch](https://pytorch.org/tutorials/)\n",
        "\n"
      ]
    }
  ]
}