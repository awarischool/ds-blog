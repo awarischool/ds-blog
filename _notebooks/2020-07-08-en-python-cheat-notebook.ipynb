{
  "nbformat": 4,
  "nbformat_minor": 0,
  "metadata": {
    "kernelspec": {
      "display_name": "Python 3",
      "language": "python",
      "name": "python3"
    },
    "language_info": {
      "codemirror_mode": {
        "name": "ipython",
        "version": 3
      },
      "file_extension": ".py",
      "mimetype": "text/x-python",
      "name": "python",
      "nbconvert_exporter": "python",
      "pygments_lexer": "ipython3",
      "version": "3.6.0"
    },
    "colab": {
      "name": " Python Cheat Notebook.ipynb",
      "provenance": [],
      "collapsed_sections": []
    }
  },
  "cells": [
    {
      "cell_type": "markdown",
      "metadata": {
        "id": "XHgYb3_ueOw0",
        "colab_type": "text"
      },
      "source": [
        "# Python Cheat Notebook\n",
        "> This notebook contains Python code with reduced comments\n",
        "\n",
        "\n",
        "- toc: false\n",
        "- branch: master\n",
        "- badges: false\n",
        "- comments: True\n",
        "- author: Awari DS Team\n",
        "- categories: [python]\n"
      ]
    },
    {
      "cell_type": "markdown",
      "metadata": {
        "id": "CY9Kf8FBYpYS",
        "colab_type": "text"
      },
      "source": [
        "### **Comments and print()**\n"
      ]
    },
    {
      "cell_type": "code",
      "metadata": {
        "id": "SPmzSVZy_QBj",
        "colab_type": "code",
        "colab": {}
      },
      "source": [
        "# I'm a comment! When there is text after a hashtag, that text does not affect the code."
      ],
      "execution_count": 2,
      "outputs": []
    },
    {
      "cell_type": "code",
      "metadata": {
        "id": "jAAI_Z7GY80S",
        "colab_type": "code",
        "colab": {
          "base_uri": "https://localhost:8080/",
          "height": 35
        },
        "outputId": "a99949b3-25bf-4c32-ace6-fd3229f75aac"
      },
      "source": [
        "print(\"Hi\")"
      ],
      "execution_count": 1,
      "outputs": [
        {
          "output_type": "stream",
          "text": [
            "Hi\n"
          ],
          "name": "stdout"
        }
      ]
    },
    {
      "cell_type": "markdown",
      "metadata": {
        "id": "-DsdsfCCMJdZ",
        "colab_type": "text"
      },
      "source": [
        "### **Numeric Operations**\n"
      ]
    },
    {
      "cell_type": "code",
      "metadata": {
        "id": "dMs9u9E4MJdb",
        "colab_type": "code",
        "colab": {
          "base_uri": "https://localhost:8080/",
          "height": 35
        },
        "outputId": "a083030a-3cde-45cf-e942-835bd11e339d"
      },
      "source": [
        "5 + 5 #addition"
      ],
      "execution_count": 3,
      "outputs": [
        {
          "output_type": "execute_result",
          "data": {
            "text/plain": [
              "10"
            ]
          },
          "metadata": {
            "tags": []
          },
          "execution_count": 3
        }
      ]
    },
    {
      "cell_type": "code",
      "metadata": {
        "id": "U-oLL_JmMJdh",
        "colab_type": "code",
        "colab": {
          "base_uri": "https://localhost:8080/",
          "height": 35
        },
        "outputId": "eb79bf6b-11f8-4890-ea71-a9d1f795f116"
      },
      "source": [
        "5 * 5 #multiplication"
      ],
      "execution_count": 4,
      "outputs": [
        {
          "output_type": "execute_result",
          "data": {
            "text/plain": [
              "25"
            ]
          },
          "metadata": {
            "tags": []
          },
          "execution_count": 4
        }
      ]
    },
    {
      "cell_type": "code",
      "metadata": {
        "id": "OTRyu_PKMJdm",
        "colab_type": "code",
        "colab": {
          "base_uri": "https://localhost:8080/",
          "height": 35
        },
        "outputId": "6c6e4a24-54a7-4a73-c112-4c1fdf4f68c7"
      },
      "source": [
        "5 / 5 #division"
      ],
      "execution_count": 5,
      "outputs": [
        {
          "output_type": "execute_result",
          "data": {
            "text/plain": [
              "1.0"
            ]
          },
          "metadata": {
            "tags": []
          },
          "execution_count": 5
        }
      ]
    },
    {
      "cell_type": "code",
      "metadata": {
        "id": "-R4cRpsgMJdq",
        "colab_type": "code",
        "colab": {
          "base_uri": "https://localhost:8080/",
          "height": 35
        },
        "outputId": "d9c1a9b4-b99c-4d1d-a6e3-5c5a53d65616"
      },
      "source": [
        "5 ** 2 #exponentiation"
      ],
      "execution_count": 6,
      "outputs": [
        {
          "output_type": "execute_result",
          "data": {
            "text/plain": [
              "25"
            ]
          },
          "metadata": {
            "tags": []
          },
          "execution_count": 6
        }
      ]
    },
    {
      "cell_type": "code",
      "metadata": {
        "id": "X-C-_coIMJdu",
        "colab_type": "code",
        "colab": {
          "base_uri": "https://localhost:8080/",
          "height": 35
        },
        "outputId": "f2425b94-5a1e-4bee-e03c-631bbce09720"
      },
      "source": [
        "4 % 2 #modulus"
      ],
      "execution_count": 7,
      "outputs": [
        {
          "output_type": "execute_result",
          "data": {
            "text/plain": [
              "0"
            ]
          },
          "metadata": {
            "tags": []
          },
          "execution_count": 7
        }
      ]
    },
    {
      "cell_type": "code",
      "metadata": {
        "id": "2AQvfxRQMJd1",
        "colab_type": "code",
        "colab": {
          "base_uri": "https://localhost:8080/",
          "height": 35
        },
        "outputId": "c8b614c3-9d70-4594-8c20-3670c32845dc"
      },
      "source": [
        "5 % 2 #modulus"
      ],
      "execution_count": 8,
      "outputs": [
        {
          "output_type": "execute_result",
          "data": {
            "text/plain": [
              "1"
            ]
          },
          "metadata": {
            "tags": []
          },
          "execution_count": 8
        }
      ]
    },
    {
      "cell_type": "code",
      "metadata": {
        "id": "emBSZ3CNMJd5",
        "colab_type": "code",
        "colab": {
          "base_uri": "https://localhost:8080/",
          "height": 35
        },
        "outputId": "4bd07961-54f3-49ea-c22b-d394d9ddce27"
      },
      "source": [
        "(5 + 5) * (5 -1) #operations order"
      ],
      "execution_count": 9,
      "outputs": [
        {
          "output_type": "execute_result",
          "data": {
            "text/plain": [
              "40"
            ]
          },
          "metadata": {
            "tags": []
          },
          "execution_count": 9
        }
      ]
    },
    {
      "cell_type": "code",
      "metadata": {
        "id": "D_tTyAAnbbSv",
        "colab_type": "code",
        "colab": {
          "base_uri": "https://localhost:8080/",
          "height": 35
        },
        "outputId": "f0668b20-0412-426f-ba34-f767647827fc"
      },
      "source": [
        "4/5 #numbers with decimal places are called \"float\""
      ],
      "execution_count": 10,
      "outputs": [
        {
          "output_type": "execute_result",
          "data": {
            "text/plain": [
              "0.8"
            ]
          },
          "metadata": {
            "tags": []
          },
          "execution_count": 10
        }
      ]
    },
    {
      "cell_type": "markdown",
      "metadata": {
        "id": "wC8uCqb7MJeP",
        "colab_type": "text"
      },
      "source": [
        "### **Strings (texts)**"
      ]
    },
    {
      "cell_type": "code",
      "metadata": {
        "id": "R4opMBEXMJeQ",
        "colab_type": "code",
        "colab": {
          "base_uri": "https://localhost:8080/",
          "height": 35
        },
        "outputId": "4dfc719a-d5f7-4e8b-ec00-b3d80819e390"
      },
      "source": [
        "'I am a string' #you can create a string with single quotes"
      ],
      "execution_count": 11,
      "outputs": [
        {
          "output_type": "execute_result",
          "data": {
            "application/vnd.google.colaboratory.intrinsic+json": {
              "type": "string"
            },
            "text/plain": [
              "'I am a string'"
            ]
          },
          "metadata": {
            "tags": []
          },
          "execution_count": 11
        }
      ]
    },
    {
      "cell_type": "code",
      "metadata": {
        "id": "-6i9d7ZDMJeT",
        "colab_type": "code",
        "colab": {
          "base_uri": "https://localhost:8080/",
          "height": 35
        },
        "outputId": "100b1e1c-2be5-4aac-e412-9fb9abe5bee4"
      },
      "source": [
        "\"I am also a string\" #you can create a string with double quotes"
      ],
      "execution_count": 12,
      "outputs": [
        {
          "output_type": "execute_result",
          "data": {
            "application/vnd.google.colaboratory.intrinsic+json": {
              "type": "string"
            },
            "text/plain": [
              "'I am also a string'"
            ]
          },
          "metadata": {
            "tags": []
          },
          "execution_count": 12
        }
      ]
    },
    {
      "cell_type": "code",
      "metadata": {
        "id": "vhNXezDUMJeX",
        "colab_type": "code",
        "colab": {
          "base_uri": "https://localhost:8080/",
          "height": 35
        },
        "outputId": "858328fb-8bc9-4c14-eb4a-6396ff33473e"
      },
      "source": [
        "\"I am a string with 'single quotes'\" #to use single quotes within the string, the string is created in double quotes."
      ],
      "execution_count": 13,
      "outputs": [
        {
          "output_type": "execute_result",
          "data": {
            "application/vnd.google.colaboratory.intrinsic+json": {
              "type": "string"
            },
            "text/plain": [
              "\"I am a string with 'single quotes'\""
            ]
          },
          "metadata": {
            "tags": []
          },
          "execution_count": 13
        }
      ]
    },
    {
      "cell_type": "code",
      "metadata": {
        "id": "nhzoUuIeowEW",
        "colab_type": "code",
        "colab": {
          "base_uri": "https://localhost:8080/",
          "height": 35
        },
        "outputId": "b5d6c0d0-458a-4888-c5bc-f0e53f40a1ca"
      },
      "source": [
        "'I am a string with \"double quotes\"'#to use double quotes inside the string, the string is created in single quotes."
      ],
      "execution_count": 15,
      "outputs": [
        {
          "output_type": "execute_result",
          "data": {
            "application/vnd.google.colaboratory.intrinsic+json": {
              "type": "string"
            },
            "text/plain": [
              "'I am a string with \"double quotes\"'"
            ]
          },
          "metadata": {
            "tags": []
          },
          "execution_count": 15
        }
      ]
    },
    {
      "cell_type": "code",
      "metadata": {
        "id": "kjhuUoRxb_fn",
        "colab_type": "code",
        "colab": {
          "base_uri": "https://localhost:8080/",
          "height": 35
        },
        "outputId": "701bfbaf-baf4-4db7-8f0a-84c42bb5c4e5"
      },
      "source": [
        "print(\"I am a string\".title()) # .title() makes the first letter of each word capitalized"
      ],
      "execution_count": 16,
      "outputs": [
        {
          "output_type": "stream",
          "text": [
            "I Am A String\n"
          ],
          "name": "stdout"
        }
      ]
    },
    {
      "cell_type": "code",
      "metadata": {
        "id": "ZkBLEtgqb_rD",
        "colab_type": "code",
        "colab": {
          "base_uri": "https://localhost:8080/",
          "height": 35
        },
        "outputId": "ce0448d6-1a33-4463-c165-b02b8f5102dd"
      },
      "source": [
        "print(\"I am A string\".lower()) # .lower() makes all letters lowercase"
      ],
      "execution_count": 17,
      "outputs": [
        {
          "output_type": "stream",
          "text": [
            "i am a string\n"
          ],
          "name": "stdout"
        }
      ]
    },
    {
      "cell_type": "code",
      "metadata": {
        "id": "pIkZj4D4b_10",
        "colab_type": "code",
        "colab": {
          "base_uri": "https://localhost:8080/",
          "height": 35
        },
        "outputId": "11014568-e604-453e-f951-ea104b13f2eb"
      },
      "source": [
        "print(\"i Am a string\".upper()) # .upper() makes all letters capitalized"
      ],
      "execution_count": 20,
      "outputs": [
        {
          "output_type": "stream",
          "text": [
            "I AM A STRING\n"
          ],
          "name": "stdout"
        }
      ]
    },
    {
      "cell_type": "markdown",
      "metadata": {
        "id": "sejSX4fIMJfu",
        "colab_type": "text"
      },
      "source": [
        "### **Booleans and Comparison Operators**"
      ]
    },
    {
      "cell_type": "code",
      "metadata": {
        "id": "wLI1heR9MJfv",
        "colab_type": "code",
        "colab": {
          "base_uri": "https://localhost:8080/",
          "height": 34
        },
        "outputId": "9958be59-1072-4f15-c162-30ffb98b0369"
      },
      "source": [
        "True #true"
      ],
      "execution_count": null,
      "outputs": [
        {
          "output_type": "execute_result",
          "data": {
            "text/plain": [
              "True"
            ]
          },
          "metadata": {
            "tags": []
          },
          "execution_count": 39
        }
      ]
    },
    {
      "cell_type": "code",
      "metadata": {
        "id": "EzRXa4kyMJf2",
        "colab_type": "code",
        "colab": {
          "base_uri": "https://localhost:8080/",
          "height": 34
        },
        "outputId": "e0e2272c-905d-48f3-91a3-32962d3390b3"
      },
      "source": [
        "False #false"
      ],
      "execution_count": null,
      "outputs": [
        {
          "output_type": "execute_result",
          "data": {
            "text/plain": [
              "False"
            ]
          },
          "metadata": {
            "tags": []
          },
          "execution_count": 40
        }
      ]
    },
    {
      "cell_type": "code",
      "metadata": {
        "id": "j9r47pWuMJgQ",
        "colab_type": "code",
        "colab": {
          "base_uri": "https://localhost:8080/",
          "height": 35
        },
        "outputId": "9de3b792-8aad-4bba-f1cb-384f62e58eac"
      },
      "source": [
        "1 > 2 # false"
      ],
      "execution_count": 21,
      "outputs": [
        {
          "output_type": "execute_result",
          "data": {
            "text/plain": [
              "False"
            ]
          },
          "metadata": {
            "tags": []
          },
          "execution_count": 21
        }
      ]
    },
    {
      "cell_type": "code",
      "metadata": {
        "id": "Exf6hZXPMJgT",
        "colab_type": "code",
        "colab": {
          "base_uri": "https://localhost:8080/",
          "height": 35
        },
        "outputId": "dd689b92-a34d-43e7-c195-f9365dcfac6d"
      },
      "source": [
        "1 < 2 # true"
      ],
      "execution_count": 22,
      "outputs": [
        {
          "output_type": "execute_result",
          "data": {
            "text/plain": [
              "True"
            ]
          },
          "metadata": {
            "tags": []
          },
          "execution_count": 22
        }
      ]
    },
    {
      "cell_type": "code",
      "metadata": {
        "id": "qQQvgSemMJgW",
        "colab_type": "code",
        "colab": {
          "base_uri": "https://localhost:8080/",
          "height": 34
        },
        "outputId": "5486348e-1d74-4712-ce6c-a52fb3b82e73"
      },
      "source": [
        "10 >= 10 # greater than or equal (true for the condition)"
      ],
      "execution_count": null,
      "outputs": [
        {
          "output_type": "execute_result",
          "data": {
            "text/plain": [
              "True"
            ]
          },
          "metadata": {
            "tags": []
          },
          "execution_count": 43
        }
      ]
    },
    {
      "cell_type": "code",
      "metadata": {
        "id": "DXNk6MCnMJga",
        "colab_type": "code",
        "colab": {
          "base_uri": "https://localhost:8080/",
          "height": 34
        },
        "outputId": "07fe5f33-f3b8-47a8-ef14-2d8b30da116b"
      },
      "source": [
        "10 <= 40 # less than or equal (true for the condition)"
      ],
      "execution_count": null,
      "outputs": [
        {
          "output_type": "execute_result",
          "data": {
            "text/plain": [
              "True"
            ]
          },
          "metadata": {
            "tags": []
          },
          "execution_count": 44
        }
      ]
    },
    {
      "cell_type": "code",
      "metadata": {
        "id": "W3hkTDlIMJgi",
        "colab_type": "code",
        "colab": {
          "base_uri": "https://localhost:8080/",
          "height": 34
        },
        "outputId": "c1a589e7-6a79-443a-fc63-f24d631d9b10"
      },
      "source": [
        "1 == 1 #true"
      ],
      "execution_count": null,
      "outputs": [
        {
          "output_type": "execute_result",
          "data": {
            "text/plain": [
              "True"
            ]
          },
          "metadata": {
            "tags": []
          },
          "execution_count": 45
        }
      ]
    },
    {
      "cell_type": "code",
      "metadata": {
        "id": "kBabtcPrMJgk",
        "colab_type": "code",
        "colab": {
          "base_uri": "https://localhost:8080/",
          "height": 35
        },
        "outputId": "c5d0c869-6db5-489c-ce39-82f48813acb4"
      },
      "source": [
        "'words' == 'word' #false"
      ],
      "execution_count": 23,
      "outputs": [
        {
          "output_type": "execute_result",
          "data": {
            "text/plain": [
              "False"
            ]
          },
          "metadata": {
            "tags": []
          },
          "execution_count": 23
        }
      ]
    },
    {
      "cell_type": "code",
      "metadata": {
        "id": "1-OTp_sf1bg8",
        "colab_type": "code",
        "colab": {
          "base_uri": "https://localhost:8080/",
          "height": 35
        },
        "outputId": "4cd54187-3793-4742-897d-2aac0217733e"
      },
      "source": [
        "'word' == 'word' #true"
      ],
      "execution_count": 24,
      "outputs": [
        {
          "output_type": "execute_result",
          "data": {
            "text/plain": [
              "True"
            ]
          },
          "metadata": {
            "tags": []
          },
          "execution_count": 24
        }
      ]
    },
    {
      "cell_type": "markdown",
      "metadata": {
        "id": "DnrlNCEyMJgo",
        "colab_type": "text"
      },
      "source": [
        "### **Conectivos**"
      ]
    },
    {
      "cell_type": "code",
      "metadata": {
        "id": "KhM26ekaMJgq",
        "colab_type": "code",
        "colab": {
          "base_uri": "https://localhost:8080/",
          "height": 35
        },
        "outputId": "681b12fe-801f-42e7-b5e9-e2cbfc58d5b2"
      },
      "source": [
        "(50 > 100) and (100 < 300) # and (both conditions must be satisfied)"
      ],
      "execution_count": 25,
      "outputs": [
        {
          "output_type": "execute_result",
          "data": {
            "text/plain": [
              "False"
            ]
          },
          "metadata": {
            "tags": []
          },
          "execution_count": 25
        }
      ]
    },
    {
      "cell_type": "code",
      "metadata": {
        "id": "tpq5uYyeMJgu",
        "colab_type": "code",
        "colab": {
          "base_uri": "https://localhost:8080/",
          "height": 35
        },
        "outputId": "01d787c1-feda-4d62-cf6b-0e0965386919"
      },
      "source": [
        "(10 > 20) or (20 < 30) # or (only one of the conditions needs to be met)"
      ],
      "execution_count": 26,
      "outputs": [
        {
          "output_type": "execute_result",
          "data": {
            "text/plain": [
              "True"
            ]
          },
          "metadata": {
            "tags": []
          },
          "execution_count": 26
        }
      ]
    },
    {
      "cell_type": "code",
      "metadata": {
        "id": "KW6-f_0XMJgx",
        "colab_type": "code",
        "colab": {
          "base_uri": "https://localhost:8080/",
          "height": 35
        },
        "outputId": "ac1d952b-b7ed-4d93-b3c2-ab2b1f78b517"
      },
      "source": [
        "(10 == 10.5) or (2 == 3) or (4 == 4)"
      ],
      "execution_count": 27,
      "outputs": [
        {
          "output_type": "execute_result",
          "data": {
            "text/plain": [
              "True"
            ]
          },
          "metadata": {
            "tags": []
          },
          "execution_count": 27
        }
      ]
    },
    {
      "cell_type": "markdown",
      "metadata": {
        "id": "zRiyR-6jMJg2",
        "colab_type": "text"
      },
      "source": [
        "### **if, elif, else**"
      ]
    },
    {
      "cell_type": "code",
      "metadata": {
        "id": "B-yc-o9wMJg3",
        "colab_type": "code",
        "colab": {
          "base_uri": "https://localhost:8080/",
          "height": 35
        },
        "outputId": "3338f12c-8b13-4180-c676-dcb1b59ad27b"
      },
      "source": [
        "if 10 < 20: \n",
        "    print('Corret!') # condition satisfied, the result will be printed"
      ],
      "execution_count": 28,
      "outputs": [
        {
          "output_type": "stream",
          "text": [
            "Corret!\n"
          ],
          "name": "stdout"
        }
      ]
    },
    {
      "cell_type": "code",
      "metadata": {
        "id": "ES-51_64MJg7",
        "colab_type": "code",
        "colab": {
          "base_uri": "https://localhost:8080/",
          "height": 35
        },
        "outputId": "31d9aed7-fc97-4697-d5b3-7e1943ae78ab"
      },
      "source": [
        "if 1 < 2:\n",
        "    print(\"One is less than two!\") # condition satisfied, the result will be printed"
      ],
      "execution_count": 29,
      "outputs": [
        {
          "output_type": "stream",
          "text": [
            "One is less than two!\n"
          ],
          "name": "stdout"
        }
      ]
    },
    {
      "cell_type": "code",
      "metadata": {
        "id": "Lo-iia04MJg-",
        "colab_type": "code",
        "colab": {
          "base_uri": "https://localhost:8080/",
          "height": 35
        },
        "outputId": "12c8bfc3-a914-470d-ce51-501e37b90554"
      },
      "source": [
        "if 1 < 2: \n",
        "    print('Correct') # condition satisfied, the result will be printed\n",
        "else:\n",
        "    print('Incorrect')"
      ],
      "execution_count": 30,
      "outputs": [
        {
          "output_type": "stream",
          "text": [
            "Correct\n"
          ],
          "name": "stdout"
        }
      ]
    },
    {
      "cell_type": "code",
      "metadata": {
        "id": "2VCr1ItpMJhC",
        "colab_type": "code",
        "colab": {
          "base_uri": "https://localhost:8080/",
          "height": 35
        },
        "outputId": "fd92995e-bebf-4b6a-dbca-2e4312d8866f"
      },
      "source": [
        "if 1 > 2: \n",
        "    print('Correct') \n",
        "else:\n",
        "    print('Incorrect') # condition not satisfied, the \"else\" result will be printed"
      ],
      "execution_count": 31,
      "outputs": [
        {
          "output_type": "stream",
          "text": [
            "Incorrect\n"
          ],
          "name": "stdout"
        }
      ]
    },
    {
      "cell_type": "code",
      "metadata": {
        "id": "x5CwSRPXMJhF",
        "colab_type": "code",
        "colab": {
          "base_uri": "https://localhost:8080/",
          "height": 35
        },
        "outputId": "06fa41d0-0c53-4d90-c421-0974aa9f7520"
      },
      "source": [
        "if 1 == 2:\n",
        "    print('first condition')\n",
        "elif 3 == 3:\n",
        "    print('second condition')\n",
        "else:\n",
        "    print('None of the conditions') # the second condition is true"
      ],
      "execution_count": 32,
      "outputs": [
        {
          "output_type": "stream",
          "text": [
            "second condition\n"
          ],
          "name": "stdout"
        }
      ]
    },
    {
      "cell_type": "markdown",
      "metadata": {
        "id": "rQbQ7tdBMJea",
        "colab_type": "text"
      },
      "source": [
        "####  **Variables**\n",
        "\n",
        "You can think of variables as words that store a value. That simple:\n",
        "\n"
      ]
    },
    {
      "cell_type": "code",
      "metadata": {
        "id": "KIQghy2tpOKu",
        "colab_type": "code",
        "colab": {}
      },
      "source": [
        "variable = 20 # defines that 20 will be stored in the 'variable' word"
      ],
      "execution_count": 33,
      "outputs": []
    },
    {
      "cell_type": "code",
      "metadata": {
        "id": "7TNOdQdXpOzV",
        "colab_type": "code",
        "colab": {
          "base_uri": "https://localhost:8080/",
          "height": 35
        },
        "outputId": "71686d58-3862-4767-d003-bc8552a38f98"
      },
      "source": [
        "variable # \"calling\" the variable"
      ],
      "execution_count": 36,
      "outputs": [
        {
          "output_type": "execute_result",
          "data": {
            "text/plain": [
              "20"
            ]
          },
          "metadata": {
            "tags": []
          },
          "execution_count": 36
        }
      ]
    },
    {
      "cell_type": "code",
      "metadata": {
        "id": "Uep7y8qVMJeb",
        "colab_type": "code",
        "colab": {}
      },
      "source": [
        "two = 2\n",
        "word = 'words'  #defining more than one variable"
      ],
      "execution_count": 37,
      "outputs": []
    },
    {
      "cell_type": "code",
      "metadata": {
        "id": "71x_mW4QMJeo",
        "colab_type": "code",
        "colab": {}
      },
      "source": [
        "age = 25\n",
        "name = 'John'"
      ],
      "execution_count": 38,
      "outputs": []
    },
    {
      "cell_type": "code",
      "metadata": {
        "id": "dT7DH8CyvKMj",
        "colab_type": "code",
        "colab": {
          "base_uri": "https://localhost:8080/",
          "height": 35
        },
        "outputId": "f5b6c136-7115-4f5c-851c-6ff349694e57"
      },
      "source": [
        "print(age,name) "
      ],
      "execution_count": 39,
      "outputs": [
        {
          "output_type": "stream",
          "text": [
            "25 John\n"
          ],
          "name": "stdout"
        }
      ]
    },
    {
      "cell_type": "markdown",
      "metadata": {
        "id": "1d6n4iKSY6wC",
        "colab_type": "text"
      },
      "source": [
        "####  **Format**"
      ]
    },
    {
      "cell_type": "code",
      "metadata": {
        "id": "ZH3uR_TQMJer",
        "colab_type": "code",
        "colab": {
          "base_uri": "https://localhost:8080/",
          "height": 35
        },
        "outputId": "fa8d1216-545c-4419-c9cf-0a9ca9e0053d"
      },
      "source": [
        "print('My name is: {}, my age is: {}'.format(name,age)) \n",
        "# With {} and .format () you replace text with variables:"
      ],
      "execution_count": 41,
      "outputs": [
        {
          "output_type": "stream",
          "text": [
            "My name is: John,my age is: 25\n"
          ],
          "name": "stdout"
        }
      ]
    },
    {
      "cell_type": "code",
      "metadata": {
        "id": "TzT5sfB2ZNWL",
        "colab_type": "code",
        "colab": {
          "base_uri": "https://localhost:8080/",
          "height": 35
        },
        "outputId": "85d76bab-af16-4ab8-e5ea-712267fdeb41"
      },
      "source": [
        "print(f'My name is: {name}, my age is: {age}')\n",
        "# you can also format a string with and f before it and the variables inside {} \n"
      ],
      "execution_count": 42,
      "outputs": [
        {
          "output_type": "stream",
          "text": [
            "My name is: John, my age is: 25\n"
          ],
          "name": "stdout"
        }
      ]
    },
    {
      "cell_type": "markdown",
      "metadata": {
        "id": "0oldYoLiwGGc",
        "colab_type": "text"
      },
      "source": [
        "It is also possible to create variables from the values of other variables:"
      ]
    },
    {
      "cell_type": "code",
      "metadata": {
        "id": "A5TzPuBaMJeC",
        "colab_type": "code",
        "colab": {}
      },
      "source": [
        "x = 2\n",
        "y = 3"
      ],
      "execution_count": 43,
      "outputs": []
    },
    {
      "cell_type": "code",
      "metadata": {
        "id": "RuRv128rMJeG",
        "colab_type": "code",
        "colab": {}
      },
      "source": [
        "z = x + y #z is the sum of x and y, which can be any values (2 and 3 in this case)."
      ],
      "execution_count": 44,
      "outputs": []
    },
    {
      "cell_type": "code",
      "metadata": {
        "id": "J51KNuBzMJeK",
        "colab_type": "code",
        "colab": {
          "base_uri": "https://localhost:8080/",
          "height": 35
        },
        "outputId": "94ee9c3a-1e2c-436c-da28-89463aa86361"
      },
      "source": [
        "z"
      ],
      "execution_count": 45,
      "outputs": [
        {
          "output_type": "execute_result",
          "data": {
            "text/plain": [
              "5"
            ]
          },
          "metadata": {
            "tags": []
          },
          "execution_count": 45
        }
      ]
    },
    {
      "cell_type": "markdown",
      "metadata": {
        "id": "xD8JZnuOMJey",
        "colab_type": "text"
      },
      "source": [
        "### **Lists**"
      ]
    },
    {
      "cell_type": "code",
      "metadata": {
        "id": "dni6scV4MJez",
        "colab_type": "code",
        "colab": {
          "base_uri": "https://localhost:8080/",
          "height": 35
        },
        "outputId": "f9943ed8-b00a-48dd-b470-1de50f1917af"
      },
      "source": [
        "[5,10,15] # lists are written with []"
      ],
      "execution_count": 46,
      "outputs": [
        {
          "output_type": "execute_result",
          "data": {
            "text/plain": [
              "[5, 10, 15]"
            ]
          },
          "metadata": {
            "tags": []
          },
          "execution_count": 46
        }
      ]
    },
    {
      "cell_type": "code",
      "metadata": {
        "id": "FdCycOvdMJe2",
        "colab_type": "code",
        "colab": {
          "base_uri": "https://localhost:8080/",
          "height": 35
        },
        "outputId": "2817f5b3-8cd3-43a5-860d-49e225d30866"
      },
      "source": [
        "['palavras',5,(5*5),name] # it is possible to store different types of data "
      ],
      "execution_count": 48,
      "outputs": [
        {
          "output_type": "execute_result",
          "data": {
            "text/plain": [
              "['palavras', 5, 25, 'John']"
            ]
          },
          "metadata": {
            "tags": []
          },
          "execution_count": 48
        }
      ]
    },
    {
      "cell_type": "markdown",
      "metadata": {
        "id": "6fO00QWL24Ih",
        "colab_type": "text"
      },
      "source": [
        "You can add an item to the list:"
      ]
    },
    {
      "cell_type": "code",
      "metadata": {
        "id": "eiXsA_qrMJe4",
        "colab_type": "code",
        "colab": {}
      },
      "source": [
        "my_list = ['a','b','c'] #a variable (my_list) that contains a list"
      ],
      "execution_count": 49,
      "outputs": []
    },
    {
      "cell_type": "code",
      "metadata": {
        "id": "Ry5uj1sTMJe7",
        "colab_type": "code",
        "colab": {}
      },
      "source": [
        "my_list.append('d') #append adds an item to the list"
      ],
      "execution_count": 50,
      "outputs": []
    },
    {
      "cell_type": "code",
      "metadata": {
        "id": "3kzPue04MJfC",
        "colab_type": "code",
        "colab": {
          "base_uri": "https://localhost:8080/",
          "height": 35
        },
        "outputId": "beb2c14b-c140-4bab-8517-83bb9014e5e5"
      },
      "source": [
        "my_list # the list after appending"
      ],
      "execution_count": 51,
      "outputs": [
        {
          "output_type": "execute_result",
          "data": {
            "text/plain": [
              "['a', 'b', 'c', 'd']"
            ]
          },
          "metadata": {
            "tags": []
          },
          "execution_count": 51
        }
      ]
    },
    {
      "cell_type": "code",
      "metadata": {
        "id": "GE-4gYIjMJfF",
        "colab_type": "code",
        "colab": {
          "base_uri": "https://localhost:8080/",
          "height": 34
        },
        "outputId": "4afba65a-f3b1-4b2d-c53b-d63a8ab6422d"
      },
      "source": [
        "my_list[0] #0 calls the list's first item"
      ],
      "execution_count": null,
      "outputs": [
        {
          "output_type": "execute_result",
          "data": {
            "text/plain": [
              "'a'"
            ]
          },
          "metadata": {
            "tags": []
          },
          "execution_count": 70
        }
      ]
    },
    {
      "cell_type": "code",
      "metadata": {
        "id": "C_SBUCCPMJfJ",
        "colab_type": "code",
        "colab": {
          "base_uri": "https://localhost:8080/",
          "height": 35
        },
        "outputId": "d4e3c9f6-99e6-4295-fcf4-fc313423025b"
      },
      "source": [
        "my_list[1] #1 calls the list's second item"
      ],
      "execution_count": 53,
      "outputs": [
        {
          "output_type": "execute_result",
          "data": {
            "application/vnd.google.colaboratory.intrinsic+json": {
              "type": "string"
            },
            "text/plain": [
              "'b'"
            ]
          },
          "metadata": {
            "tags": []
          },
          "execution_count": 53
        }
      ]
    },
    {
      "cell_type": "code",
      "metadata": {
        "id": "97nDOfuLMJfL",
        "colab_type": "code",
        "colab": {
          "base_uri": "https://localhost:8080/",
          "height": 35
        },
        "outputId": "10dfec76-9eed-40a7-ef66-b1a6adead1aa"
      },
      "source": [
        "my_list[1:] # What comes before the colon is the starting point of the selection. \n",
        "            #  In this case, the second item is selected until the last"
      ],
      "execution_count": 54,
      "outputs": [
        {
          "output_type": "execute_result",
          "data": {
            "text/plain": [
              "['b', 'c', 'd']"
            ]
          },
          "metadata": {
            "tags": []
          },
          "execution_count": 54
        }
      ]
    },
    {
      "cell_type": "code",
      "metadata": {
        "id": "7c9XzBR0MJfO",
        "colab_type": "code",
        "colab": {
          "base_uri": "https://localhost:8080/",
          "height": 35
        },
        "outputId": "3c543af5-4a00-48a7-a940-939b40205a23"
      },
      "source": [
        "my_list[:2] # What comes after the colon is the arrival point of the selection. \n",
        "          # In this case, it is selected from the first item to the third [2]"
      ],
      "execution_count": 55,
      "outputs": [
        {
          "output_type": "execute_result",
          "data": {
            "text/plain": [
              "['a', 'b']"
            ]
          },
          "metadata": {
            "tags": []
          },
          "execution_count": 55
        }
      ]
    },
    {
      "cell_type": "code",
      "metadata": {
        "id": "a6x0ktBBMJfS",
        "colab_type": "code",
        "colab": {}
      },
      "source": [
        "my_list[0] = 'NEW' # replaces the element"
      ],
      "execution_count": 56,
      "outputs": []
    },
    {
      "cell_type": "code",
      "metadata": {
        "id": "CBTodQ7pMJfV",
        "colab_type": "code",
        "colab": {
          "base_uri": "https://localhost:8080/",
          "height": 35
        },
        "outputId": "1b7f0e65-0d84-49d9-a4a0-a44310450773"
      },
      "source": [
        "my_list # list after replacing"
      ],
      "execution_count": 57,
      "outputs": [
        {
          "output_type": "execute_result",
          "data": {
            "text/plain": [
              "['NEW', 'b', 'c', 'd']"
            ]
          },
          "metadata": {
            "tags": []
          },
          "execution_count": 57
        }
      ]
    },
    {
      "cell_type": "code",
      "metadata": {
        "id": "KZEDxkRkhyXs",
        "colab_type": "code",
        "colab": {}
      },
      "source": [
        "del my_list[2] # deletes the list's third item"
      ],
      "execution_count": 58,
      "outputs": []
    },
    {
      "cell_type": "code",
      "metadata": {
        "id": "Q_yl4VtIh-I_",
        "colab_type": "code",
        "colab": {
          "base_uri": "https://localhost:8080/",
          "height": 35
        },
        "outputId": "a48df731-7c71-4d94-d489-b6fa459b48b5"
      },
      "source": [
        "my_list # list after the remotion"
      ],
      "execution_count": 59,
      "outputs": [
        {
          "output_type": "execute_result",
          "data": {
            "text/plain": [
              "['NEW', 'b', 'd']"
            ]
          },
          "metadata": {
            "tags": []
          },
          "execution_count": 59
        }
      ]
    },
    {
      "cell_type": "code",
      "metadata": {
        "id": "3d9uzCEadTjZ",
        "colab_type": "code",
        "colab": {
          "base_uri": "https://localhost:8080/",
          "height": 34
        },
        "outputId": "49efe4c7-27ad-4e5c-817a-6283c2018f4a"
      },
      "source": [
        "len(my_list) # checks the number of items in the list."
      ],
      "execution_count": null,
      "outputs": [
        {
          "output_type": "execute_result",
          "data": {
            "text/plain": [
              "3"
            ]
          },
          "metadata": {
            "tags": []
          },
          "execution_count": 78
        }
      ]
    },
    {
      "cell_type": "code",
      "metadata": {
        "id": "vdqNWqMzMJfY",
        "colab_type": "code",
        "colab": {}
      },
      "source": [
        "nested = [1,2,3,[4,5,['hello',\"guys\"]]] # It is possible to store lists within lists (nested list)\n",
        "                                        # The [] within the list create other list"
      ],
      "execution_count": 61,
      "outputs": []
    },
    {
      "cell_type": "code",
      "metadata": {
        "id": "pAHCyUj3MJfb",
        "colab_type": "code",
        "colab": {
          "base_uri": "https://localhost:8080/",
          "height": 35
        },
        "outputId": "33e5f712-f8ba-408a-e46e-f9b6bbf1820d"
      },
      "source": [
        "nested[3] # the fourth item on the nest list is also a list"
      ],
      "execution_count": 62,
      "outputs": [
        {
          "output_type": "execute_result",
          "data": {
            "text/plain": [
              "[4, 5, ['hello', 'guys']]"
            ]
          },
          "metadata": {
            "tags": []
          },
          "execution_count": 62
        }
      ]
    },
    {
      "cell_type": "code",
      "metadata": {
        "id": "sIY3LBNzMJfd",
        "colab_type": "code",
        "colab": {
          "base_uri": "https://localhost:8080/",
          "height": 35
        },
        "outputId": "6a311e75-57e5-4be3-fff4-28847ad2a805"
      },
      "source": [
        "nested[3][2] # finds the element within the list stored in the \"nested\" list"
      ],
      "execution_count": 64,
      "outputs": [
        {
          "output_type": "execute_result",
          "data": {
            "text/plain": [
              "['hello', 'guys']"
            ]
          },
          "metadata": {
            "tags": []
          },
          "execution_count": 64
        }
      ]
    },
    {
      "cell_type": "code",
      "metadata": {
        "id": "7O-7WSXjMJfg",
        "colab_type": "code",
        "colab": {
          "base_uri": "https://localhost:8080/",
          "height": 35
        },
        "outputId": "bf3145fc-a463-4845-f77e-e360f6db228e"
      },
      "source": [
        "nested[3][2][0] # finds the first element within the list that was stored within the \"nested\" list"
      ],
      "execution_count": 65,
      "outputs": [
        {
          "output_type": "execute_result",
          "data": {
            "application/vnd.google.colaboratory.intrinsic+json": {
              "type": "string"
            },
            "text/plain": [
              "'hello'"
            ]
          },
          "metadata": {
            "tags": []
          },
          "execution_count": 65
        }
      ]
    },
    {
      "cell_type": "markdown",
      "metadata": {
        "id": "Az0HScepMJfj",
        "colab_type": "text"
      },
      "source": [
        "### **Dicionários**"
      ]
    },
    {
      "cell_type": "code",
      "metadata": {
        "id": "XfSt9X3WMJfj",
        "colab_type": "code",
        "colab": {}
      },
      "source": [
        "d = {'key1':'item1','key2':'item2'} # dictionaries are created with {} and have keys and values"
      ],
      "execution_count": 2,
      "outputs": []
    },
    {
      "cell_type": "code",
      "metadata": {
        "id": "LO1Iu9GWMJfm",
        "colab_type": "code",
        "colab": {
          "base_uri": "https://localhost:8080/",
          "height": 35
        },
        "outputId": "734e5806-1a0a-4956-e376-c77c9577a7f3"
      },
      "source": [
        "d # calling the dictionary"
      ],
      "execution_count": 3,
      "outputs": [
        {
          "output_type": "execute_result",
          "data": {
            "text/plain": [
              "{'key1': 'item1', 'key2': 'item2'}"
            ]
          },
          "metadata": {
            "tags": []
          },
          "execution_count": 3
        }
      ]
    },
    {
      "cell_type": "code",
      "metadata": {
        "id": "ai_KQHEGMJfq",
        "colab_type": "code",
        "colab": {
          "base_uri": "https://localhost:8080/",
          "height": 35
        },
        "outputId": "924f41b6-19df-4a51-b018-c4281cea8286"
      },
      "source": [
        "d['key1'] # here we call the value stored in key1"
      ],
      "execution_count": 4,
      "outputs": [
        {
          "output_type": "execute_result",
          "data": {
            "application/vnd.google.colaboratory.intrinsic+json": {
              "type": "string"
            },
            "text/plain": [
              "'item1'"
            ]
          },
          "metadata": {
            "tags": []
          },
          "execution_count": 4
        }
      ]
    },
    {
      "cell_type": "code",
      "metadata": {
        "id": "xrlF1d3WciwB",
        "colab_type": "code",
        "colab": {}
      },
      "source": [
        "d['key3']=\"item3\" # it is also possible to add keys and values to the dictionary, as in the example."
      ],
      "execution_count": 5,
      "outputs": []
    },
    {
      "cell_type": "code",
      "metadata": {
        "id": "0n-MrX4Gcn8I",
        "colab_type": "code",
        "colab": {
          "base_uri": "https://localhost:8080/",
          "height": 35
        },
        "outputId": "ab2eb602-e47e-49d0-e4b2-6e3897195458"
      },
      "source": [
        "d # the dictionary after adding the key3"
      ],
      "execution_count": 6,
      "outputs": [
        {
          "output_type": "execute_result",
          "data": {
            "text/plain": [
              "{'key1': 'item1', 'key2': 'item2', 'key3': 'item3'}"
            ]
          },
          "metadata": {
            "tags": []
          },
          "execution_count": 6
        }
      ]
    },
    {
      "cell_type": "markdown",
      "metadata": {
        "id": "cIby1Z0WMJf7",
        "colab_type": "text"
      },
      "source": [
        "**Tuples** "
      ]
    },
    {
      "cell_type": "code",
      "metadata": {
        "id": "T_bKaI_kMJf8",
        "colab_type": "code",
        "colab": {}
      },
      "source": [
        "t = (1,2,3) # tuples are created with () and are immutable"
      ],
      "execution_count": 7,
      "outputs": []
    },
    {
      "cell_type": "code",
      "metadata": {
        "id": "zbW0xfmYMJgA",
        "colab_type": "code",
        "colab": {
          "base_uri": "https://localhost:8080/",
          "height": 35
        },
        "outputId": "e78997cc-483e-4b62-8c3f-0101b7c0b2a3"
      },
      "source": [
        "t[0]"
      ],
      "execution_count": 8,
      "outputs": [
        {
          "output_type": "execute_result",
          "data": {
            "text/plain": [
              "1"
            ]
          },
          "metadata": {
            "tags": []
          },
          "execution_count": 8
        }
      ]
    },
    {
      "cell_type": "code",
      "metadata": {
        "id": "upZe6fNvMJgD",
        "colab_type": "code",
        "colab": {
          "base_uri": "https://localhost:8080/",
          "height": 165
        },
        "outputId": "a7c04dd6-ff63-4ced-ec00-846882119aea"
      },
      "source": [
        "t[0] = 'NEW' # it is not possible to change it, so an error will occur!"
      ],
      "execution_count": 9,
      "outputs": [
        {
          "output_type": "error",
          "ename": "TypeError",
          "evalue": "ignored",
          "traceback": [
            "\u001b[0;31m---------------------------------------------------------------------------\u001b[0m",
            "\u001b[0;31mTypeError\u001b[0m                                 Traceback (most recent call last)",
            "\u001b[0;32m<ipython-input-9-1732ff52eeef>\u001b[0m in \u001b[0;36m<module>\u001b[0;34m()\u001b[0m\n\u001b[0;32m----> 1\u001b[0;31m \u001b[0mt\u001b[0m\u001b[0;34m[\u001b[0m\u001b[0;36m0\u001b[0m\u001b[0;34m]\u001b[0m \u001b[0;34m=\u001b[0m \u001b[0;34m'NEW'\u001b[0m \u001b[0;31m# não é possível alterá-la, por isso um erro ocorrerá!\u001b[0m\u001b[0;34m\u001b[0m\u001b[0;34m\u001b[0m\u001b[0m\n\u001b[0m",
            "\u001b[0;31mTypeError\u001b[0m: 'tuple' object does not support item assignment"
          ]
        }
      ]
    },
    {
      "cell_type": "markdown",
      "metadata": {
        "id": "1s8Cwhm_MJhI",
        "colab_type": "text"
      },
      "source": [
        "### Loops - **for**:"
      ]
    },
    {
      "cell_type": "code",
      "metadata": {
        "id": "gqjoo4oNMJhJ",
        "colab_type": "code",
        "colab": {}
      },
      "source": [
        "my_list = [1,2,3,4,5,\"hello\",'world'] # creating a new list with integers and strings"
      ],
      "execution_count": 10,
      "outputs": []
    },
    {
      "cell_type": "code",
      "metadata": {
        "id": "2R0DenYKMJhL",
        "colab_type": "code",
        "colab": {
          "base_uri": "https://localhost:8080/",
          "height": 138
        },
        "outputId": "2c6e2ee1-55e0-450c-dd8a-e8f4c0b8c599"
      },
      "source": [
        "for item in my_list: # in this for loop, each item in the list is printed.\n",
        "    print(item)          "
      ],
      "execution_count": 11,
      "outputs": [
        {
          "output_type": "stream",
          "text": [
            "1\n",
            "2\n",
            "3\n",
            "4\n",
            "5\n",
            "hello\n",
            "world\n"
          ],
          "name": "stdout"
        }
      ]
    },
    {
      "cell_type": "code",
      "metadata": {
        "id": "UL9h8SwfMJhN",
        "colab_type": "code",
        "colab": {
          "base_uri": "https://localhost:8080/",
          "height": 138
        },
        "outputId": "4bf69eff-5809-4611-8ad7-d3f32dda818d"
      },
      "source": [
        "for item in my_list: # in this for loop, for each recognized list item you are asked to print the word \"Looping\"\n",
        "    print('Looping')       "
      ],
      "execution_count": 12,
      "outputs": [
        {
          "output_type": "stream",
          "text": [
            "Looping\n",
            "Looping\n",
            "Looping\n",
            "Looping\n",
            "Looping\n",
            "Looping\n",
            "Looping\n"
          ],
          "name": "stdout"
        }
      ]
    },
    {
      "cell_type": "code",
      "metadata": {
        "id": "Vf74xOtzMJhP",
        "colab_type": "code",
        "colab": {
          "base_uri": "https://localhost:8080/",
          "height": 138
        },
        "outputId": "3db461c5-9fd7-49f9-9b57-5db8eedd7b5c"
      },
      "source": [
        "for i in my_list: #in this for loop, each element of the list is multiplied by 2. \n",
        "    print(2*i)        #It is important to realize the difference between the behavior of the operator with numbers and strings."
      ],
      "execution_count": 14,
      "outputs": [
        {
          "output_type": "stream",
          "text": [
            "2\n",
            "4\n",
            "6\n",
            "8\n",
            "10\n",
            "hellohello\n",
            "worldworld\n"
          ],
          "name": "stdout"
        }
      ]
    },
    {
      "cell_type": "markdown",
      "metadata": {
        "id": "7QfmmBNBMJhS",
        "colab_type": "text"
      },
      "source": [
        "### Loops - **while**"
      ]
    },
    {
      "cell_type": "code",
      "metadata": {
        "id": "LiC2dgQ9MJhS",
        "colab_type": "code",
        "colab": {
          "base_uri": "https://localhost:8080/",
          "height": 86
        },
        "outputId": "74fb2576-5630-4f31-ad22-2ce16b4b4f05"
      },
      "source": [
        "i = 1\n",
        "while i < 5:                     #as long as the requested condition is true (i less than 5), the loop will be executed.\n",
        "    print('i is: {}'.format(i))  \n",
        "    i = i+1"
      ],
      "execution_count": 15,
      "outputs": [
        {
          "output_type": "stream",
          "text": [
            "i is: 1\n",
            "i is: 2\n",
            "i is: 3\n",
            "i is: 4\n"
          ],
          "name": "stdout"
        }
      ]
    },
    {
      "cell_type": "code",
      "metadata": {
        "id": "FIlL1ymcgtVI",
        "colab_type": "code",
        "colab": {
          "base_uri": "https://localhost:8080/",
          "height": 87
        },
        "outputId": "aa75ddf7-b733-4496-bfbc-c9f835117939"
      },
      "source": [
        "i = 3\n",
        "while i < 7:                     # as long as the condition is true (i less than 7), \n",
        "    print('i is: {}'.format(i))  # the loop will be executed. i is updated at the end of the loop\n",
        "    i = i+1                      "
      ],
      "execution_count": null,
      "outputs": [
        {
          "output_type": "stream",
          "text": [
            "i is: 3\n",
            "i is: 4\n",
            "i is: 5\n",
            "i is: 6\n"
          ],
          "name": "stdout"
        }
      ]
    },
    {
      "cell_type": "markdown",
      "metadata": {
        "id": "DyCaByo-MJhU",
        "colab_type": "text"
      },
      "source": [
        "### **range()**"
      ]
    },
    {
      "cell_type": "code",
      "metadata": {
        "id": "BQ2ZagpZMJhV",
        "colab_type": "code",
        "colab": {
          "base_uri": "https://localhost:8080/",
          "height": 35
        },
        "outputId": "c54460e4-05c8-450d-b4e3-d04ff3ab0802"
      },
      "source": [
        "range(0,5) #defines an intervalo"
      ],
      "execution_count": 16,
      "outputs": [
        {
          "output_type": "execute_result",
          "data": {
            "text/plain": [
              "range(0, 5)"
            ]
          },
          "metadata": {
            "tags": []
          },
          "execution_count": 16
        }
      ]
    },
    {
      "cell_type": "code",
      "metadata": {
        "id": "1h4ehNTUMJhW",
        "colab_type": "code",
        "colab": {
          "base_uri": "https://localhost:8080/",
          "height": 104
        },
        "outputId": "3f449690-e682-4d95-cb32-54c6e6cf2c3b"
      },
      "source": [
        "for i in range(0,5):       # defines that the loop will be executed while i is within the range\n",
        "    print(\"The number is: {} \".format(i))"
      ],
      "execution_count": 17,
      "outputs": [
        {
          "output_type": "stream",
          "text": [
            "The number is: 0 \n",
            "The number is: 1 \n",
            "The number is: 2 \n",
            "The number is: 3 \n",
            "The number is: 4 \n"
          ],
          "name": "stdout"
        }
      ]
    },
    {
      "cell_type": "code",
      "metadata": {
        "id": "9wU_7ecFMJhY",
        "colab_type": "code",
        "colab": {
          "base_uri": "https://localhost:8080/",
          "height": 35
        },
        "outputId": "cdf12f52-a987-4c21-f702-dcf3bca34602"
      },
      "source": [
        "list(range(2,7)) # turns the range into a list of values"
      ],
      "execution_count": 18,
      "outputs": [
        {
          "output_type": "execute_result",
          "data": {
            "text/plain": [
              "[2, 3, 4, 5, 6]"
            ]
          },
          "metadata": {
            "tags": []
          },
          "execution_count": 18
        }
      ]
    },
    {
      "cell_type": "markdown",
      "metadata": {
        "id": "InUGZvl7MJhd",
        "colab_type": "text"
      },
      "source": [
        "### **List comprehension**"
      ]
    },
    {
      "cell_type": "code",
      "metadata": {
        "id": "OjjrLQfKMJhd",
        "colab_type": "code",
        "colab": {}
      },
      "source": [
        "x = [1,2,3,4] # creates a new list"
      ],
      "execution_count": 19,
      "outputs": []
    },
    {
      "cell_type": "code",
      "metadata": {
        "id": "1shJxeUUMJhg",
        "colab_type": "code",
        "colab": {
          "base_uri": "https://localhost:8080/",
          "height": 35
        },
        "outputId": "9125d045-cabd-417a-c243-1ef5b949f701"
      },
      "source": [
        "out = []           # here a loop is created to raise the elements of list x to the power of 2.\n",
        "for item in x:     \n",
        "    out.append(item**2)\n",
        "print(out)"
      ],
      "execution_count": 20,
      "outputs": [
        {
          "output_type": "stream",
          "text": [
            "[1, 4, 9, 16]\n"
          ],
          "name": "stdout"
        }
      ]
    },
    {
      "cell_type": "code",
      "metadata": {
        "id": "8HKUDbqLMJhj",
        "colab_type": "code",
        "colab": {
          "base_uri": "https://localhost:8080/",
          "height": 35
        },
        "outputId": "05930585-6546-4ceb-c57f-5f8e9a087fcb"
      },
      "source": [
        "[item**2 for item in x] # here we have a pythonic way to accomplish the same task, with just one line of code\n",
        "                        "
      ],
      "execution_count": 21,
      "outputs": [
        {
          "output_type": "execute_result",
          "data": {
            "text/plain": [
              "[1, 4, 9, 16]"
            ]
          },
          "metadata": {
            "tags": []
          },
          "execution_count": 21
        }
      ]
    },
    {
      "cell_type": "markdown",
      "metadata": {
        "id": "YfLOy6HzMJhm",
        "colab_type": "text"
      },
      "source": [
        "### **Functions**\n",
        "\n"
      ]
    },
    {
      "cell_type": "code",
      "metadata": {
        "id": "pZtSMKunMJhm",
        "colab_type": "code",
        "colab": {}
      },
      "source": [
        "def my_func(phrase): #def is the word used to create the function. After that, \n",
        "  print(phrase)      #the function name comes and the parameters come inside the parenthesis. \n",
        "                     #In this case, we create a function that will print the sentence we want.\n",
        "    "
      ],
      "execution_count": 22,
      "outputs": []
    },
    {
      "cell_type": "code",
      "metadata": {
        "id": "kgrLpWH3MJhp",
        "colab_type": "code",
        "colab": {
          "base_uri": "https://localhost:8080/",
          "height": 35
        },
        "outputId": "3a17bf69-e729-46f7-e871-71e7943e7038"
      },
      "source": [
        "my_func(\"Hello World\") #The phrase is \"Hello World\""
      ],
      "execution_count": 24,
      "outputs": [
        {
          "output_type": "stream",
          "text": [
            "Hello World\n"
          ],
          "name": "stdout"
        }
      ]
    },
    {
      "cell_type": "code",
      "metadata": {
        "id": "Qujaq-SJMJhu",
        "colab_type": "code",
        "colab": {
          "base_uri": "https://localhost:8080/",
          "height": 35
        },
        "outputId": "5b305ea7-b019-4a29-82ae-f3f5cf75aa15"
      },
      "source": [
        "my_func(\"I'm in the Data Science Bootcamp\") #With another phrase"
      ],
      "execution_count": 25,
      "outputs": [
        {
          "output_type": "stream",
          "text": [
            "I'm in the Data Science Bootcamp\n"
          ],
          "name": "stdout"
        }
      ]
    },
    {
      "cell_type": "code",
      "metadata": {
        "id": "tKuU_oIIMJh3",
        "colab_type": "code",
        "colab": {}
      },
      "source": [
        "def multiply_by_2(x): #In this case, we create a function that multiplies by 2.\n",
        "    return x*2"
      ],
      "execution_count": 27,
      "outputs": []
    },
    {
      "cell_type": "code",
      "metadata": {
        "id": "k1USI3KdMJh5",
        "colab_type": "code",
        "colab": {}
      },
      "source": [
        "result = multiply_by_2(5) # Applying the function to a number"
      ],
      "execution_count": 28,
      "outputs": []
    },
    {
      "cell_type": "code",
      "metadata": {
        "scrolled": true,
        "id": "JQbCyIK6MJh6",
        "colab_type": "code",
        "colab": {
          "base_uri": "https://localhost:8080/",
          "height": 35
        },
        "outputId": "6331b78c-b15d-41a9-a696-b7680670c28f"
      },
      "source": [
        "result"
      ],
      "execution_count": 29,
      "outputs": [
        {
          "output_type": "execute_result",
          "data": {
            "text/plain": [
              "10"
            ]
          },
          "metadata": {
            "tags": []
          },
          "execution_count": 29
        }
      ]
    },
    {
      "cell_type": "code",
      "metadata": {
        "id": "GY7dVEYOfYj4",
        "colab_type": "code",
        "colab": {
          "base_uri": "https://localhost:8080/",
          "height": 35
        },
        "outputId": "a81d8351-6f0d-4c02-f568-1c51fbb77f30"
      },
      "source": [
        "word_2 = multiply_by_2('Hi ') # It can be applied with strings too, but the behavior is different.\n",
        "word_2"
      ],
      "execution_count": 30,
      "outputs": [
        {
          "output_type": "execute_result",
          "data": {
            "application/vnd.google.colaboratory.intrinsic+json": {
              "type": "string"
            },
            "text/plain": [
              "'Hi Hi '"
            ]
          },
          "metadata": {
            "tags": []
          },
          "execution_count": 30
        }
      ]
    },
    {
      "cell_type": "code",
      "metadata": {
        "id": "5Qp5VYKlfYry",
        "colab_type": "code",
        "colab": {}
      },
      "source": [
        "def complex_function(x,y,z): #x,y,z are parameters\n",
        "  s = x+y+z                   # the function creates the s variable\n",
        "  m = x*y*z                   # the function creates the m variable\n",
        "  print(\"The sum of x, y and z is: \", s)           # the function prints the results\n",
        "  print(\"The multiplication of x, y and z is: \", m)\n"
      ],
      "execution_count": 31,
      "outputs": []
    },
    {
      "cell_type": "code",
      "metadata": {
        "id": "Fh74C_BafYpL",
        "colab_type": "code",
        "colab": {
          "base_uri": "https://localhost:8080/",
          "height": 52
        },
        "outputId": "20f118fe-8d13-45b6-b79a-a6624c0460d9"
      },
      "source": [
        "complex_function(5,2,3)"
      ],
      "execution_count": 32,
      "outputs": [
        {
          "output_type": "stream",
          "text": [
            "The sum of x, y and z is:  10\n",
            "The multiplication of x, y and z is:  30\n"
          ],
          "name": "stdout"
        }
      ]
    },
    {
      "cell_type": "markdown",
      "metadata": {
        "id": "c0bcuBGIuzeU",
        "colab_type": "text"
      },
      "source": [
        "### **Classes and functions**\n",
        "\n"
      ]
    },
    {
      "cell_type": "code",
      "metadata": {
        "id": "CPFWiTrJuwcy",
        "colab_type": "code",
        "colab": {}
      },
      "source": [
        "class Person: #creates the class\n",
        "  def __init__(self,name,age,profession): #initiates the class\n",
        "    self.name=name    #defines atributes\n",
        "    self.age=age\n",
        "    self.profession=profession\n",
        "\n",
        "  def historic(self): #creates a method, a function designated specifically to the class created\n",
        "    print(\"The object {} us {} years old and is a {}!\".format(self.name,self.age,self.profession))"
      ],
      "execution_count": 37,
      "outputs": []
    },
    {
      "cell_type": "code",
      "metadata": {
        "id": "1hRqo5Lbvwiz",
        "colab_type": "code",
        "colab": {}
      },
      "source": [
        "soccer_player = Person(\"John\",150,\"soccer_player\")          #creates an instance of the Person class\n",
        "journalist = Person(\"Mary\",235,\"journalist\")"
      ],
      "execution_count": 38,
      "outputs": []
    },
    {
      "cell_type": "code",
      "metadata": {
        "id": "wndYTsjwwBTM",
        "colab_type": "code",
        "colab": {
          "base_uri": "https://localhost:8080/",
          "height": 35
        },
        "outputId": "2ff04db8-cca4-4b99-e410-8626d5b8fc77"
      },
      "source": [
        "soccer_player.age #shows one of the atributes"
      ],
      "execution_count": 39,
      "outputs": [
        {
          "output_type": "execute_result",
          "data": {
            "text/plain": [
              "150"
            ]
          },
          "metadata": {
            "tags": []
          },
          "execution_count": 39
        }
      ]
    },
    {
      "cell_type": "code",
      "metadata": {
        "id": "LbwlYgYawbY-",
        "colab_type": "code",
        "colab": {
          "base_uri": "https://localhost:8080/",
          "height": 35
        },
        "outputId": "915f0804-756c-4cb2-92ca-8b80b3a47ece"
      },
      "source": [
        "soccer_player.historic() #applies the created method to one of the instances"
      ],
      "execution_count": 40,
      "outputs": [
        {
          "output_type": "stream",
          "text": [
            "The object John us 150 years old and is a soccer_player!\n"
          ],
          "name": "stdout"
        }
      ]
    },
    {
      "cell_type": "code",
      "metadata": {
        "id": "w77NmnrPw-O2",
        "colab_type": "code",
        "colab": {
          "base_uri": "https://localhost:8080/",
          "height": 35
        },
        "outputId": "b6fe6936-6767-421a-89d4-f7a70d4bd021"
      },
      "source": [
        "journalist.historic() #applies the created method to one of the instances"
      ],
      "execution_count": 41,
      "outputs": [
        {
          "output_type": "stream",
          "text": [
            "The object Mary us 235 years old and is a journalist!\n"
          ],
          "name": "stdout"
        }
      ]
    },
    {
      "cell_type": "markdown",
      "metadata": {
        "id": "tBZ_r3laMJjC",
        "colab_type": "text"
      },
      "source": [
        "![](https://i.imgur.com/YX6UATs.png)"
      ]
    }
  ]
}