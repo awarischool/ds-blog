{
 "cells": [
  {
   "cell_type": "markdown",
   "metadata": {
    "colab_type": "text",
    "id": "XHgYb3_ueOw0"
   },
   "source": [
    "# Python Cheat Notebook\n",
    "> This notebook contains Python code with reduced comments\n",
    "\n",
    "\n",
    "- toc: false\n",
    "- branch: master\n",
    "- badges: true\n",
    "- comments: false\n",
    "- author: Awari DS Team\n",
    "- categories: [python]\n"
   ]
  },
  {
   "cell_type": "markdown",
   "metadata": {
    "colab_type": "text",
    "id": "CY9Kf8FBYpYS"
   },
   "source": [
    "### **Comments and print()**\n"
   ]
  },
  {
   "cell_type": "code",
   "execution_count": 1,
   "metadata": {
    "colab": {},
    "colab_type": "code",
    "id": "SPmzSVZy_QBj"
   },
   "outputs": [],
   "source": [
    "# I'm a comment! When there is text after a hashtag, that text does not affect the code."
   ]
  },
  {
   "cell_type": "code",
   "execution_count": 2,
   "metadata": {
    "colab": {
     "base_uri": "https://localhost:8080/",
     "height": 35
    },
    "colab_type": "code",
    "id": "jAAI_Z7GY80S",
    "outputId": "a99949b3-25bf-4c32-ace6-fd3229f75aac"
   },
   "outputs": [
    {
     "name": "stdout",
     "output_type": "stream",
     "text": [
      "Hi\n"
     ]
    }
   ],
   "source": [
    "print(\"Hi\")"
   ]
  },
  {
   "cell_type": "markdown",
   "metadata": {
    "colab_type": "text",
    "id": "-DsdsfCCMJdZ"
   },
   "source": [
    "### **Numeric Operations**\n"
   ]
  },
  {
   "cell_type": "code",
   "execution_count": 3,
   "metadata": {
    "colab": {
     "base_uri": "https://localhost:8080/",
     "height": 35
    },
    "colab_type": "code",
    "id": "dMs9u9E4MJdb",
    "outputId": "a083030a-3cde-45cf-e942-835bd11e339d"
   },
   "outputs": [
    {
     "data": {
      "text/plain": [
       "10"
      ]
     },
     "execution_count": 3,
     "metadata": {},
     "output_type": "execute_result"
    }
   ],
   "source": [
    "5 + 5 #addition"
   ]
  },
  {
   "cell_type": "code",
   "execution_count": 4,
   "metadata": {
    "colab": {
     "base_uri": "https://localhost:8080/",
     "height": 35
    },
    "colab_type": "code",
    "id": "U-oLL_JmMJdh",
    "outputId": "eb79bf6b-11f8-4890-ea71-a9d1f795f116"
   },
   "outputs": [
    {
     "data": {
      "text/plain": [
       "25"
      ]
     },
     "execution_count": 4,
     "metadata": {},
     "output_type": "execute_result"
    }
   ],
   "source": [
    "5 * 5 #multiplication"
   ]
  },
  {
   "cell_type": "code",
   "execution_count": 5,
   "metadata": {
    "colab": {
     "base_uri": "https://localhost:8080/",
     "height": 35
    },
    "colab_type": "code",
    "id": "OTRyu_PKMJdm",
    "outputId": "6c6e4a24-54a7-4a73-c112-4c1fdf4f68c7"
   },
   "outputs": [
    {
     "data": {
      "text/plain": [
       "1.0"
      ]
     },
     "execution_count": 5,
     "metadata": {},
     "output_type": "execute_result"
    }
   ],
   "source": [
    "5 / 5 #division"
   ]
  },
  {
   "cell_type": "code",
   "execution_count": 6,
   "metadata": {
    "colab": {
     "base_uri": "https://localhost:8080/",
     "height": 35
    },
    "colab_type": "code",
    "id": "-R4cRpsgMJdq",
    "outputId": "d9c1a9b4-b99c-4d1d-a6e3-5c5a53d65616"
   },
   "outputs": [
    {
     "data": {
      "text/plain": [
       "25"
      ]
     },
     "execution_count": 6,
     "metadata": {},
     "output_type": "execute_result"
    }
   ],
   "source": [
    "5 ** 2 #exponentiation"
   ]
  },
  {
   "cell_type": "code",
   "execution_count": 7,
   "metadata": {
    "colab": {
     "base_uri": "https://localhost:8080/",
     "height": 35
    },
    "colab_type": "code",
    "id": "X-C-_coIMJdu",
    "outputId": "f2425b94-5a1e-4bee-e03c-631bbce09720"
   },
   "outputs": [
    {
     "data": {
      "text/plain": [
       "0"
      ]
     },
     "execution_count": 7,
     "metadata": {},
     "output_type": "execute_result"
    }
   ],
   "source": [
    "4 % 2 #modulus"
   ]
  },
  {
   "cell_type": "code",
   "execution_count": 8,
   "metadata": {
    "colab": {
     "base_uri": "https://localhost:8080/",
     "height": 35
    },
    "colab_type": "code",
    "id": "2AQvfxRQMJd1",
    "outputId": "c8b614c3-9d70-4594-8c20-3670c32845dc"
   },
   "outputs": [
    {
     "data": {
      "text/plain": [
       "1"
      ]
     },
     "execution_count": 8,
     "metadata": {},
     "output_type": "execute_result"
    }
   ],
   "source": [
    "5 % 2 #modulus"
   ]
  },
  {
   "cell_type": "code",
   "execution_count": 9,
   "metadata": {
    "colab": {
     "base_uri": "https://localhost:8080/",
     "height": 35
    },
    "colab_type": "code",
    "id": "emBSZ3CNMJd5",
    "outputId": "4bd07961-54f3-49ea-c22b-d394d9ddce27"
   },
   "outputs": [
    {
     "data": {
      "text/plain": [
       "40"
      ]
     },
     "execution_count": 9,
     "metadata": {},
     "output_type": "execute_result"
    }
   ],
   "source": [
    "(5 + 5) * (5 -1) #operations order"
   ]
  },
  {
   "cell_type": "code",
   "execution_count": 10,
   "metadata": {
    "colab": {
     "base_uri": "https://localhost:8080/",
     "height": 35
    },
    "colab_type": "code",
    "id": "D_tTyAAnbbSv",
    "outputId": "f0668b20-0412-426f-ba34-f767647827fc"
   },
   "outputs": [
    {
     "data": {
      "text/plain": [
       "0.8"
      ]
     },
     "execution_count": 10,
     "metadata": {},
     "output_type": "execute_result"
    }
   ],
   "source": [
    "4/5 #numbers with decimal places are called \"float\""
   ]
  },
  {
   "cell_type": "markdown",
   "metadata": {
    "colab_type": "text",
    "id": "wC8uCqb7MJeP"
   },
   "source": [
    "### **Strings (texts)**"
   ]
  },
  {
   "cell_type": "code",
   "execution_count": 11,
   "metadata": {
    "colab": {
     "base_uri": "https://localhost:8080/",
     "height": 35
    },
    "colab_type": "code",
    "id": "R4opMBEXMJeQ",
    "outputId": "4dfc719a-d5f7-4e8b-ec00-b3d80819e390"
   },
   "outputs": [
    {
     "data": {
      "text/plain": [
       "'I am a string'"
      ]
     },
     "execution_count": 11,
     "metadata": {},
     "output_type": "execute_result"
    }
   ],
   "source": [
    "'I am a string' #you can create a string with single quotes"
   ]
  },
  {
   "cell_type": "code",
   "execution_count": 12,
   "metadata": {
    "colab": {
     "base_uri": "https://localhost:8080/",
     "height": 35
    },
    "colab_type": "code",
    "id": "-6i9d7ZDMJeT",
    "outputId": "100b1e1c-2be5-4aac-e412-9fb9abe5bee4"
   },
   "outputs": [
    {
     "data": {
      "text/plain": [
       "'I am also a string'"
      ]
     },
     "execution_count": 12,
     "metadata": {},
     "output_type": "execute_result"
    }
   ],
   "source": [
    "\"I am also a string\" #you can create a string with double quotes"
   ]
  },
  {
   "cell_type": "code",
   "execution_count": 13,
   "metadata": {
    "colab": {
     "base_uri": "https://localhost:8080/",
     "height": 35
    },
    "colab_type": "code",
    "id": "vhNXezDUMJeX",
    "outputId": "858328fb-8bc9-4c14-eb4a-6396ff33473e"
   },
   "outputs": [
    {
     "data": {
      "text/plain": [
       "\"I am a string with 'single quotes'\""
      ]
     },
     "execution_count": 13,
     "metadata": {},
     "output_type": "execute_result"
    }
   ],
   "source": [
    "\"I am a string with 'single quotes'\" #to use single quotes within the string, the string is created in double quotes."
   ]
  },
  {
   "cell_type": "code",
   "execution_count": 14,
   "metadata": {
    "colab": {
     "base_uri": "https://localhost:8080/",
     "height": 35
    },
    "colab_type": "code",
    "id": "nhzoUuIeowEW",
    "outputId": "b5d6c0d0-458a-4888-c5bc-f0e53f40a1ca"
   },
   "outputs": [
    {
     "data": {
      "text/plain": [
       "'I am a string with \"double quotes\"'"
      ]
     },
     "execution_count": 14,
     "metadata": {},
     "output_type": "execute_result"
    }
   ],
   "source": [
    "'I am a string with \"double quotes\"'#to use double quotes inside the string, the string is created in single quotes."
   ]
  },
  {
   "cell_type": "code",
   "execution_count": 15,
   "metadata": {
    "colab": {
     "base_uri": "https://localhost:8080/",
     "height": 35
    },
    "colab_type": "code",
    "id": "kjhuUoRxb_fn",
    "outputId": "701bfbaf-baf4-4db7-8f0a-84c42bb5c4e5"
   },
   "outputs": [
    {
     "name": "stdout",
     "output_type": "stream",
     "text": [
      "I Am A String\n"
     ]
    }
   ],
   "source": [
    "print(\"I am a string\".title()) # .title() makes the first letter of each word capitalized"
   ]
  },
  {
   "cell_type": "code",
   "execution_count": 16,
   "metadata": {
    "colab": {
     "base_uri": "https://localhost:8080/",
     "height": 35
    },
    "colab_type": "code",
    "id": "ZkBLEtgqb_rD",
    "outputId": "ce0448d6-1a33-4463-c165-b02b8f5102dd"
   },
   "outputs": [
    {
     "name": "stdout",
     "output_type": "stream",
     "text": [
      "i am a string\n"
     ]
    }
   ],
   "source": [
    "print(\"I am A string\".lower()) # .lower() makes all letters lowercase"
   ]
  },
  {
   "cell_type": "code",
   "execution_count": 17,
   "metadata": {
    "colab": {
     "base_uri": "https://localhost:8080/",
     "height": 35
    },
    "colab_type": "code",
    "id": "pIkZj4D4b_10",
    "outputId": "11014568-e604-453e-f951-ea104b13f2eb"
   },
   "outputs": [
    {
     "name": "stdout",
     "output_type": "stream",
     "text": [
      "I AM A STRING\n"
     ]
    }
   ],
   "source": [
    "print(\"i Am a string\".upper()) # .upper() makes all letters capitalized"
   ]
  },
  {
   "cell_type": "markdown",
   "metadata": {
    "colab_type": "text",
    "id": "sejSX4fIMJfu"
   },
   "source": [
    "### **Booleans and Comparison Operators**"
   ]
  },
  {
   "cell_type": "code",
   "execution_count": 18,
   "metadata": {
    "colab": {
     "base_uri": "https://localhost:8080/",
     "height": 34
    },
    "colab_type": "code",
    "id": "wLI1heR9MJfv",
    "outputId": "9958be59-1072-4f15-c162-30ffb98b0369"
   },
   "outputs": [
    {
     "data": {
      "text/plain": [
       "True"
      ]
     },
     "execution_count": 18,
     "metadata": {},
     "output_type": "execute_result"
    }
   ],
   "source": [
    "True #true"
   ]
  },
  {
   "cell_type": "code",
   "execution_count": 19,
   "metadata": {
    "colab": {
     "base_uri": "https://localhost:8080/",
     "height": 34
    },
    "colab_type": "code",
    "id": "EzRXa4kyMJf2",
    "outputId": "e0e2272c-905d-48f3-91a3-32962d3390b3"
   },
   "outputs": [
    {
     "data": {
      "text/plain": [
       "False"
      ]
     },
     "execution_count": 19,
     "metadata": {},
     "output_type": "execute_result"
    }
   ],
   "source": [
    "False #false"
   ]
  },
  {
   "cell_type": "code",
   "execution_count": 20,
   "metadata": {
    "colab": {
     "base_uri": "https://localhost:8080/",
     "height": 35
    },
    "colab_type": "code",
    "id": "j9r47pWuMJgQ",
    "outputId": "9de3b792-8aad-4bba-f1cb-384f62e58eac"
   },
   "outputs": [
    {
     "data": {
      "text/plain": [
       "False"
      ]
     },
     "execution_count": 20,
     "metadata": {},
     "output_type": "execute_result"
    }
   ],
   "source": [
    "1 > 2 # false"
   ]
  },
  {
   "cell_type": "code",
   "execution_count": 21,
   "metadata": {
    "colab": {
     "base_uri": "https://localhost:8080/",
     "height": 35
    },
    "colab_type": "code",
    "id": "Exf6hZXPMJgT",
    "outputId": "dd689b92-a34d-43e7-c195-f9365dcfac6d"
   },
   "outputs": [
    {
     "data": {
      "text/plain": [
       "True"
      ]
     },
     "execution_count": 21,
     "metadata": {},
     "output_type": "execute_result"
    }
   ],
   "source": [
    "1 < 2 # true"
   ]
  },
  {
   "cell_type": "code",
   "execution_count": 22,
   "metadata": {
    "colab": {
     "base_uri": "https://localhost:8080/",
     "height": 34
    },
    "colab_type": "code",
    "id": "qQQvgSemMJgW",
    "outputId": "5486348e-1d74-4712-ce6c-a52fb3b82e73"
   },
   "outputs": [
    {
     "data": {
      "text/plain": [
       "True"
      ]
     },
     "execution_count": 22,
     "metadata": {},
     "output_type": "execute_result"
    }
   ],
   "source": [
    "10 >= 10 # greater than or equal (true for the condition)"
   ]
  },
  {
   "cell_type": "code",
   "execution_count": 23,
   "metadata": {
    "colab": {
     "base_uri": "https://localhost:8080/",
     "height": 34
    },
    "colab_type": "code",
    "id": "DXNk6MCnMJga",
    "outputId": "07fe5f33-f3b8-47a8-ef14-2d8b30da116b"
   },
   "outputs": [
    {
     "data": {
      "text/plain": [
       "True"
      ]
     },
     "execution_count": 23,
     "metadata": {},
     "output_type": "execute_result"
    }
   ],
   "source": [
    "10 <= 40 # less than or equal (true for the condition)"
   ]
  },
  {
   "cell_type": "code",
   "execution_count": 24,
   "metadata": {
    "colab": {
     "base_uri": "https://localhost:8080/",
     "height": 34
    },
    "colab_type": "code",
    "id": "W3hkTDlIMJgi",
    "outputId": "c1a589e7-6a79-443a-fc63-f24d631d9b10"
   },
   "outputs": [
    {
     "data": {
      "text/plain": [
       "True"
      ]
     },
     "execution_count": 24,
     "metadata": {},
     "output_type": "execute_result"
    }
   ],
   "source": [
    "1 == 1 #true"
   ]
  },
  {
   "cell_type": "code",
   "execution_count": 25,
   "metadata": {
    "colab": {
     "base_uri": "https://localhost:8080/",
     "height": 35
    },
    "colab_type": "code",
    "id": "kBabtcPrMJgk",
    "outputId": "c5d0c869-6db5-489c-ce39-82f48813acb4"
   },
   "outputs": [
    {
     "data": {
      "text/plain": [
       "False"
      ]
     },
     "execution_count": 25,
     "metadata": {},
     "output_type": "execute_result"
    }
   ],
   "source": [
    "'words' == 'word' #false"
   ]
  },
  {
   "cell_type": "code",
   "execution_count": 26,
   "metadata": {
    "colab": {
     "base_uri": "https://localhost:8080/",
     "height": 35
    },
    "colab_type": "code",
    "id": "1-OTp_sf1bg8",
    "outputId": "4cd54187-3793-4742-897d-2aac0217733e"
   },
   "outputs": [
    {
     "data": {
      "text/plain": [
       "True"
      ]
     },
     "execution_count": 26,
     "metadata": {},
     "output_type": "execute_result"
    }
   ],
   "source": [
    "'word' == 'word' #true"
   ]
  },
  {
   "cell_type": "markdown",
   "metadata": {
    "colab_type": "text",
    "id": "DnrlNCEyMJgo"
   },
   "source": [
    "### **Connectives**"
   ]
  },
  {
   "cell_type": "code",
   "execution_count": 27,
   "metadata": {
    "colab": {
     "base_uri": "https://localhost:8080/",
     "height": 35
    },
    "colab_type": "code",
    "id": "KhM26ekaMJgq",
    "outputId": "681b12fe-801f-42e7-b5e9-e2cbfc58d5b2"
   },
   "outputs": [
    {
     "data": {
      "text/plain": [
       "False"
      ]
     },
     "execution_count": 27,
     "metadata": {},
     "output_type": "execute_result"
    }
   ],
   "source": [
    "(50 > 100) and (100 < 300) # and (both conditions must be satisfied)"
   ]
  },
  {
   "cell_type": "code",
   "execution_count": 28,
   "metadata": {
    "colab": {
     "base_uri": "https://localhost:8080/",
     "height": 35
    },
    "colab_type": "code",
    "id": "tpq5uYyeMJgu",
    "outputId": "01d787c1-feda-4d62-cf6b-0e0965386919"
   },
   "outputs": [
    {
     "data": {
      "text/plain": [
       "True"
      ]
     },
     "execution_count": 28,
     "metadata": {},
     "output_type": "execute_result"
    }
   ],
   "source": [
    "(10 > 20) or (20 < 30) # or (only one of the conditions needs to be met)"
   ]
  },
  {
   "cell_type": "code",
   "execution_count": 29,
   "metadata": {
    "colab": {
     "base_uri": "https://localhost:8080/",
     "height": 35
    },
    "colab_type": "code",
    "id": "KW6-f_0XMJgx",
    "outputId": "ac1d952b-b7ed-4d93-b3c2-ab2b1f78b517"
   },
   "outputs": [
    {
     "data": {
      "text/plain": [
       "True"
      ]
     },
     "execution_count": 29,
     "metadata": {},
     "output_type": "execute_result"
    }
   ],
   "source": [
    "(10 == 10.5) or (2 == 3) or (4 == 4)"
   ]
  },
  {
   "cell_type": "markdown",
   "metadata": {
    "colab_type": "text",
    "id": "zRiyR-6jMJg2"
   },
   "source": [
    "### **if, elif, else**"
   ]
  },
  {
   "cell_type": "code",
   "execution_count": 30,
   "metadata": {
    "colab": {
     "base_uri": "https://localhost:8080/",
     "height": 35
    },
    "colab_type": "code",
    "id": "B-yc-o9wMJg3",
    "outputId": "3338f12c-8b13-4180-c676-dcb1b59ad27b"
   },
   "outputs": [
    {
     "name": "stdout",
     "output_type": "stream",
     "text": [
      "Corret!\n"
     ]
    }
   ],
   "source": [
    "if 10 < 20: \n",
    "    print('Corret!') # condition satisfied, the result will be printed"
   ]
  },
  {
   "cell_type": "code",
   "execution_count": 31,
   "metadata": {
    "colab": {
     "base_uri": "https://localhost:8080/",
     "height": 35
    },
    "colab_type": "code",
    "id": "ES-51_64MJg7",
    "outputId": "31d9aed7-fc97-4697-d5b3-7e1943ae78ab"
   },
   "outputs": [
    {
     "name": "stdout",
     "output_type": "stream",
     "text": [
      "One is less than two!\n"
     ]
    }
   ],
   "source": [
    "if 1 < 2:\n",
    "    print(\"One is less than two!\") # condition satisfied, the result will be printed"
   ]
  },
  {
   "cell_type": "code",
   "execution_count": 32,
   "metadata": {
    "colab": {
     "base_uri": "https://localhost:8080/",
     "height": 35
    },
    "colab_type": "code",
    "id": "Lo-iia04MJg-",
    "outputId": "12c8bfc3-a914-470d-ce51-501e37b90554"
   },
   "outputs": [
    {
     "name": "stdout",
     "output_type": "stream",
     "text": [
      "Correct\n"
     ]
    }
   ],
   "source": [
    "if 1 < 2: \n",
    "    print('Correct') # condition satisfied, the result will be printed\n",
    "else:\n",
    "    print('Incorrect')"
   ]
  },
  {
   "cell_type": "code",
   "execution_count": 33,
   "metadata": {
    "colab": {
     "base_uri": "https://localhost:8080/",
     "height": 35
    },
    "colab_type": "code",
    "id": "2VCr1ItpMJhC",
    "outputId": "fd92995e-bebf-4b6a-dbca-2e4312d8866f"
   },
   "outputs": [
    {
     "name": "stdout",
     "output_type": "stream",
     "text": [
      "Incorrect\n"
     ]
    }
   ],
   "source": [
    "if 1 > 2: \n",
    "    print('Correct') \n",
    "else:\n",
    "    print('Incorrect') # condition not satisfied, the \"else\" result will be printed"
   ]
  },
  {
   "cell_type": "code",
   "execution_count": 34,
   "metadata": {
    "colab": {
     "base_uri": "https://localhost:8080/",
     "height": 35
    },
    "colab_type": "code",
    "id": "x5CwSRPXMJhF",
    "outputId": "06fa41d0-0c53-4d90-c421-0974aa9f7520"
   },
   "outputs": [
    {
     "name": "stdout",
     "output_type": "stream",
     "text": [
      "second condition\n"
     ]
    }
   ],
   "source": [
    "if 1 == 2:\n",
    "    print('first condition')\n",
    "elif 3 == 3:\n",
    "    print('second condition')\n",
    "else:\n",
    "    print('None of the conditions') # the second condition is true"
   ]
  },
  {
   "cell_type": "markdown",
   "metadata": {
    "colab_type": "text",
    "id": "rQbQ7tdBMJea"
   },
   "source": [
    "####  **Variables**\n",
    "\n",
    "You can think of variables as words that store a value. That simple:\n",
    "\n"
   ]
  },
  {
   "cell_type": "code",
   "execution_count": 35,
   "metadata": {
    "colab": {},
    "colab_type": "code",
    "id": "KIQghy2tpOKu"
   },
   "outputs": [],
   "source": [
    "variable = 20 # defines that 20 will be stored in the 'variable' word"
   ]
  },
  {
   "cell_type": "code",
   "execution_count": 36,
   "metadata": {
    "colab": {
     "base_uri": "https://localhost:8080/",
     "height": 35
    },
    "colab_type": "code",
    "id": "7TNOdQdXpOzV",
    "outputId": "71686d58-3862-4767-d003-bc8552a38f98"
   },
   "outputs": [
    {
     "data": {
      "text/plain": [
       "20"
      ]
     },
     "execution_count": 36,
     "metadata": {},
     "output_type": "execute_result"
    }
   ],
   "source": [
    "variable # \"calling\" the variable"
   ]
  },
  {
   "cell_type": "code",
   "execution_count": 37,
   "metadata": {
    "colab": {},
    "colab_type": "code",
    "id": "Uep7y8qVMJeb"
   },
   "outputs": [],
   "source": [
    "two = 2\n",
    "word = 'words'  #defining more than one variable"
   ]
  },
  {
   "cell_type": "code",
   "execution_count": 38,
   "metadata": {
    "colab": {},
    "colab_type": "code",
    "id": "71x_mW4QMJeo"
   },
   "outputs": [],
   "source": [
    "age = 25\n",
    "name = 'John'"
   ]
  },
  {
   "cell_type": "code",
   "execution_count": 39,
   "metadata": {
    "colab": {
     "base_uri": "https://localhost:8080/",
     "height": 35
    },
    "colab_type": "code",
    "id": "dT7DH8CyvKMj",
    "outputId": "f5b6c136-7115-4f5c-851c-6ff349694e57"
   },
   "outputs": [
    {
     "name": "stdout",
     "output_type": "stream",
     "text": [
      "25 John\n"
     ]
    }
   ],
   "source": [
    "print(age,name) "
   ]
  },
  {
   "cell_type": "markdown",
   "metadata": {
    "colab_type": "text",
    "id": "1d6n4iKSY6wC"
   },
   "source": [
    "####  **Format**"
   ]
  },
  {
   "cell_type": "code",
   "execution_count": 40,
   "metadata": {
    "colab": {
     "base_uri": "https://localhost:8080/",
     "height": 35
    },
    "colab_type": "code",
    "id": "ZH3uR_TQMJer",
    "outputId": "fa8d1216-545c-4419-c9cf-0a9ca9e0053d"
   },
   "outputs": [
    {
     "name": "stdout",
     "output_type": "stream",
     "text": [
      "My name is: John, my age is: 25\n"
     ]
    }
   ],
   "source": [
    "print('My name is: {}, my age is: {}'.format(name,age)) \n",
    "# With {} and .format () you replace text with variables:"
   ]
  },
  {
   "cell_type": "code",
   "execution_count": 41,
   "metadata": {
    "colab": {
     "base_uri": "https://localhost:8080/",
     "height": 35
    },
    "colab_type": "code",
    "id": "TzT5sfB2ZNWL",
    "outputId": "85d76bab-af16-4ab8-e5ea-712267fdeb41"
   },
   "outputs": [
    {
     "name": "stdout",
     "output_type": "stream",
     "text": [
      "My name is: John, my age is: 25\n"
     ]
    }
   ],
   "source": [
    "print(f'My name is: {name}, my age is: {age}')\n",
    "# you can also format a string with and f before it and the variables inside {} \n"
   ]
  },
  {
   "cell_type": "markdown",
   "metadata": {
    "colab_type": "text",
    "id": "0oldYoLiwGGc"
   },
   "source": [
    "It is also possible to create variables from the values of other variables:"
   ]
  },
  {
   "cell_type": "code",
   "execution_count": 42,
   "metadata": {
    "colab": {},
    "colab_type": "code",
    "id": "A5TzPuBaMJeC"
   },
   "outputs": [],
   "source": [
    "x = 2\n",
    "y = 3"
   ]
  },
  {
   "cell_type": "code",
   "execution_count": 43,
   "metadata": {
    "colab": {},
    "colab_type": "code",
    "id": "RuRv128rMJeG"
   },
   "outputs": [],
   "source": [
    "z = x + y #z is the sum of x and y, which can be any values (2 and 3 in this case)."
   ]
  },
  {
   "cell_type": "code",
   "execution_count": 44,
   "metadata": {
    "colab": {
     "base_uri": "https://localhost:8080/",
     "height": 35
    },
    "colab_type": "code",
    "id": "J51KNuBzMJeK",
    "outputId": "94ee9c3a-1e2c-436c-da28-89463aa86361"
   },
   "outputs": [
    {
     "data": {
      "text/plain": [
       "5"
      ]
     },
     "execution_count": 44,
     "metadata": {},
     "output_type": "execute_result"
    }
   ],
   "source": [
    "z"
   ]
  },
  {
   "cell_type": "markdown",
   "metadata": {
    "colab_type": "text",
    "id": "xD8JZnuOMJey"
   },
   "source": [
    "### **Lists**"
   ]
  },
  {
   "cell_type": "code",
   "execution_count": 45,
   "metadata": {
    "colab": {
     "base_uri": "https://localhost:8080/",
     "height": 35
    },
    "colab_type": "code",
    "id": "dni6scV4MJez",
    "outputId": "f9943ed8-b00a-48dd-b470-1de50f1917af"
   },
   "outputs": [
    {
     "data": {
      "text/plain": [
       "[5, 10, 15]"
      ]
     },
     "execution_count": 45,
     "metadata": {},
     "output_type": "execute_result"
    }
   ],
   "source": [
    "[5,10,15] # lists are written with []"
   ]
  },
  {
   "cell_type": "code",
   "execution_count": 46,
   "metadata": {
    "colab": {
     "base_uri": "https://localhost:8080/",
     "height": 35
    },
    "colab_type": "code",
    "id": "FdCycOvdMJe2",
    "outputId": "2817f5b3-8cd3-43a5-860d-49e225d30866"
   },
   "outputs": [
    {
     "data": {
      "text/plain": [
       "['words', 5, 25, 'John']"
      ]
     },
     "execution_count": 46,
     "metadata": {},
     "output_type": "execute_result"
    }
   ],
   "source": [
    "['words',5,(5*5),name] # it is possible to store different types of data "
   ]
  },
  {
   "cell_type": "markdown",
   "metadata": {
    "colab_type": "text",
    "id": "6fO00QWL24Ih"
   },
   "source": [
    "You can add an item to the list:"
   ]
  },
  {
   "cell_type": "code",
   "execution_count": 47,
   "metadata": {
    "colab": {},
    "colab_type": "code",
    "id": "eiXsA_qrMJe4"
   },
   "outputs": [],
   "source": [
    "my_list = ['a','b','c'] #a variable (my_list) that contains a list"
   ]
  },
  {
   "cell_type": "code",
   "execution_count": 48,
   "metadata": {
    "colab": {},
    "colab_type": "code",
    "id": "Ry5uj1sTMJe7"
   },
   "outputs": [],
   "source": [
    "my_list.append('d') #append adds an item to the list"
   ]
  },
  {
   "cell_type": "code",
   "execution_count": 49,
   "metadata": {
    "colab": {
     "base_uri": "https://localhost:8080/",
     "height": 35
    },
    "colab_type": "code",
    "id": "3kzPue04MJfC",
    "outputId": "beb2c14b-c140-4bab-8517-83bb9014e5e5"
   },
   "outputs": [
    {
     "data": {
      "text/plain": [
       "['a', 'b', 'c', 'd']"
      ]
     },
     "execution_count": 49,
     "metadata": {},
     "output_type": "execute_result"
    }
   ],
   "source": [
    "my_list # the list after appending"
   ]
  },
  {
   "cell_type": "code",
   "execution_count": 50,
   "metadata": {
    "colab": {
     "base_uri": "https://localhost:8080/",
     "height": 34
    },
    "colab_type": "code",
    "id": "GE-4gYIjMJfF",
    "outputId": "4afba65a-f3b1-4b2d-c53b-d63a8ab6422d"
   },
   "outputs": [
    {
     "data": {
      "text/plain": [
       "'a'"
      ]
     },
     "execution_count": 50,
     "metadata": {},
     "output_type": "execute_result"
    }
   ],
   "source": [
    "my_list[0] #0 calls the list's first item"
   ]
  },
  {
   "cell_type": "code",
   "execution_count": 51,
   "metadata": {
    "colab": {
     "base_uri": "https://localhost:8080/",
     "height": 35
    },
    "colab_type": "code",
    "id": "C_SBUCCPMJfJ",
    "outputId": "d4e3c9f6-99e6-4295-fcf4-fc313423025b"
   },
   "outputs": [
    {
     "data": {
      "text/plain": [
       "'b'"
      ]
     },
     "execution_count": 51,
     "metadata": {},
     "output_type": "execute_result"
    }
   ],
   "source": [
    "my_list[1] #1 calls the list's second item"
   ]
  },
  {
   "cell_type": "code",
   "execution_count": 52,
   "metadata": {
    "colab": {
     "base_uri": "https://localhost:8080/",
     "height": 35
    },
    "colab_type": "code",
    "id": "97nDOfuLMJfL",
    "outputId": "10dfec76-9eed-40a7-ef66-b1a6adead1aa"
   },
   "outputs": [
    {
     "data": {
      "text/plain": [
       "['b', 'c', 'd']"
      ]
     },
     "execution_count": 52,
     "metadata": {},
     "output_type": "execute_result"
    }
   ],
   "source": [
    "my_list[1:] # What comes before the colon is the starting point of the selection. \n",
    "            #  In this case, the second item is selected until the last"
   ]
  },
  {
   "cell_type": "code",
   "execution_count": 53,
   "metadata": {
    "colab": {
     "base_uri": "https://localhost:8080/",
     "height": 35
    },
    "colab_type": "code",
    "id": "7c9XzBR0MJfO",
    "outputId": "3c543af5-4a00-48a7-a940-939b40205a23"
   },
   "outputs": [
    {
     "data": {
      "text/plain": [
       "['a', 'b']"
      ]
     },
     "execution_count": 53,
     "metadata": {},
     "output_type": "execute_result"
    }
   ],
   "source": [
    "my_list[:2] # What comes after the colon is the arrival point of the selection. \n",
    "          # In this case, it is selected from the first item to the third [2]"
   ]
  },
  {
   "cell_type": "code",
   "execution_count": 54,
   "metadata": {
    "colab": {},
    "colab_type": "code",
    "id": "a6x0ktBBMJfS"
   },
   "outputs": [],
   "source": [
    "my_list[0] = 'NEW' # replaces the element"
   ]
  },
  {
   "cell_type": "code",
   "execution_count": 55,
   "metadata": {
    "colab": {
     "base_uri": "https://localhost:8080/",
     "height": 35
    },
    "colab_type": "code",
    "id": "CBTodQ7pMJfV",
    "outputId": "1b7f0e65-0d84-49d9-a4a0-a44310450773"
   },
   "outputs": [
    {
     "data": {
      "text/plain": [
       "['NEW', 'b', 'c', 'd']"
      ]
     },
     "execution_count": 55,
     "metadata": {},
     "output_type": "execute_result"
    }
   ],
   "source": [
    "my_list # list after replacing"
   ]
  },
  {
   "cell_type": "code",
   "execution_count": 56,
   "metadata": {
    "colab": {},
    "colab_type": "code",
    "id": "KZEDxkRkhyXs"
   },
   "outputs": [],
   "source": [
    "del my_list[2] # deletes the list's third item"
   ]
  },
  {
   "cell_type": "code",
   "execution_count": 57,
   "metadata": {
    "colab": {
     "base_uri": "https://localhost:8080/",
     "height": 35
    },
    "colab_type": "code",
    "id": "Q_yl4VtIh-I_",
    "outputId": "a48df731-7c71-4d94-d489-b6fa459b48b5"
   },
   "outputs": [
    {
     "data": {
      "text/plain": [
       "['NEW', 'b', 'd']"
      ]
     },
     "execution_count": 57,
     "metadata": {},
     "output_type": "execute_result"
    }
   ],
   "source": [
    "my_list # list after the remotion"
   ]
  },
  {
   "cell_type": "code",
   "execution_count": 58,
   "metadata": {
    "colab": {
     "base_uri": "https://localhost:8080/",
     "height": 34
    },
    "colab_type": "code",
    "id": "3d9uzCEadTjZ",
    "outputId": "49efe4c7-27ad-4e5c-817a-6283c2018f4a"
   },
   "outputs": [
    {
     "data": {
      "text/plain": [
       "3"
      ]
     },
     "execution_count": 58,
     "metadata": {},
     "output_type": "execute_result"
    }
   ],
   "source": [
    "len(my_list) # checks the number of items in the list."
   ]
  },
  {
   "cell_type": "code",
   "execution_count": 59,
   "metadata": {
    "colab": {},
    "colab_type": "code",
    "id": "vdqNWqMzMJfY"
   },
   "outputs": [],
   "source": [
    "nested = [1,2,3,[4,5,['hello',\"guys\"]]] # It is possible to store lists within lists (nested list)\n",
    "                                        # The [] within the list create other list"
   ]
  },
  {
   "cell_type": "code",
   "execution_count": 60,
   "metadata": {
    "colab": {
     "base_uri": "https://localhost:8080/",
     "height": 35
    },
    "colab_type": "code",
    "id": "pAHCyUj3MJfb",
    "outputId": "33e5f712-f8ba-408a-e46e-f9b6bbf1820d"
   },
   "outputs": [
    {
     "data": {
      "text/plain": [
       "[4, 5, ['hello', 'guys']]"
      ]
     },
     "execution_count": 60,
     "metadata": {},
     "output_type": "execute_result"
    }
   ],
   "source": [
    "nested[3] # the fourth item on the nest list is also a list"
   ]
  },
  {
   "cell_type": "code",
   "execution_count": 61,
   "metadata": {
    "colab": {
     "base_uri": "https://localhost:8080/",
     "height": 35
    },
    "colab_type": "code",
    "id": "sIY3LBNzMJfd",
    "outputId": "6a311e75-57e5-4be3-fff4-28847ad2a805"
   },
   "outputs": [
    {
     "data": {
      "text/plain": [
       "['hello', 'guys']"
      ]
     },
     "execution_count": 61,
     "metadata": {},
     "output_type": "execute_result"
    }
   ],
   "source": [
    "nested[3][2] # finds the element within the list stored in the \"nested\" list"
   ]
  },
  {
   "cell_type": "code",
   "execution_count": 62,
   "metadata": {
    "colab": {
     "base_uri": "https://localhost:8080/",
     "height": 35
    },
    "colab_type": "code",
    "id": "7O-7WSXjMJfg",
    "outputId": "bf3145fc-a463-4845-f77e-e360f6db228e"
   },
   "outputs": [
    {
     "data": {
      "text/plain": [
       "'hello'"
      ]
     },
     "execution_count": 62,
     "metadata": {},
     "output_type": "execute_result"
    }
   ],
   "source": [
    "nested[3][2][0] # finds the first element within the list that was stored within the \"nested\" list"
   ]
  },
  {
   "cell_type": "markdown",
   "metadata": {
    "colab_type": "text",
    "id": "Az0HScepMJfj"
   },
   "source": [
    "### **Dictionaries**"
   ]
  },
  {
   "cell_type": "code",
   "execution_count": 63,
   "metadata": {
    "colab": {},
    "colab_type": "code",
    "id": "XfSt9X3WMJfj"
   },
   "outputs": [],
   "source": [
    "d = {'key1':'item1','key2':'item2'} # dictionaries are created with {} and have keys and values"
   ]
  },
  {
   "cell_type": "code",
   "execution_count": 64,
   "metadata": {
    "colab": {
     "base_uri": "https://localhost:8080/",
     "height": 35
    },
    "colab_type": "code",
    "id": "LO1Iu9GWMJfm",
    "outputId": "734e5806-1a0a-4956-e376-c77c9577a7f3"
   },
   "outputs": [
    {
     "data": {
      "text/plain": [
       "{'key1': 'item1', 'key2': 'item2'}"
      ]
     },
     "execution_count": 64,
     "metadata": {},
     "output_type": "execute_result"
    }
   ],
   "source": [
    "d # calling the dictionary"
   ]
  },
  {
   "cell_type": "code",
   "execution_count": 65,
   "metadata": {
    "colab": {
     "base_uri": "https://localhost:8080/",
     "height": 35
    },
    "colab_type": "code",
    "id": "ai_KQHEGMJfq",
    "outputId": "924f41b6-19df-4a51-b018-c4281cea8286"
   },
   "outputs": [
    {
     "data": {
      "text/plain": [
       "'item1'"
      ]
     },
     "execution_count": 65,
     "metadata": {},
     "output_type": "execute_result"
    }
   ],
   "source": [
    "d['key1'] # here we call the value stored in key1"
   ]
  },
  {
   "cell_type": "code",
   "execution_count": 66,
   "metadata": {
    "colab": {},
    "colab_type": "code",
    "id": "xrlF1d3WciwB"
   },
   "outputs": [],
   "source": [
    "d['key3']=\"item3\" # it is also possible to add keys and values to the dictionary, as in the example."
   ]
  },
  {
   "cell_type": "code",
   "execution_count": 67,
   "metadata": {
    "colab": {
     "base_uri": "https://localhost:8080/",
     "height": 35
    },
    "colab_type": "code",
    "id": "0n-MrX4Gcn8I",
    "outputId": "ab2eb602-e47e-49d0-e4b2-6e3897195458"
   },
   "outputs": [
    {
     "data": {
      "text/plain": [
       "{'key1': 'item1', 'key2': 'item2', 'key3': 'item3'}"
      ]
     },
     "execution_count": 67,
     "metadata": {},
     "output_type": "execute_result"
    }
   ],
   "source": [
    "d # the dictionary after adding the key3"
   ]
  },
  {
   "cell_type": "markdown",
   "metadata": {
    "colab_type": "text",
    "id": "cIby1Z0WMJf7"
   },
   "source": [
    "**Tuples** "
   ]
  },
  {
   "cell_type": "code",
   "execution_count": 68,
   "metadata": {
    "colab": {},
    "colab_type": "code",
    "id": "T_bKaI_kMJf8"
   },
   "outputs": [],
   "source": [
    "t = (1,2,3) # tuples are created with () and are immutable"
   ]
  },
  {
   "cell_type": "code",
   "execution_count": 69,
   "metadata": {
    "colab": {
     "base_uri": "https://localhost:8080/",
     "height": 35
    },
    "colab_type": "code",
    "id": "zbW0xfmYMJgA",
    "outputId": "e78997cc-483e-4b62-8c3f-0101b7c0b2a3"
   },
   "outputs": [
    {
     "data": {
      "text/plain": [
       "1"
      ]
     },
     "execution_count": 69,
     "metadata": {},
     "output_type": "execute_result"
    }
   ],
   "source": [
    "t[0]"
   ]
  },
  {
   "cell_type": "code",
   "execution_count": 70,
   "metadata": {
    "colab": {
     "base_uri": "https://localhost:8080/",
     "height": 165
    },
    "colab_type": "code",
    "id": "upZe6fNvMJgD",
    "outputId": "a7c04dd6-ff63-4ced-ec00-846882119aea"
   },
   "outputs": [
    {
     "ename": "TypeError",
     "evalue": "'tuple' object does not support item assignment",
     "output_type": "error",
     "traceback": [
      "\u001b[0;31m---------------------------------------------------------------------------\u001b[0m",
      "\u001b[0;31mTypeError\u001b[0m                                 Traceback (most recent call last)",
      "\u001b[0;32m<ipython-input-70-9bfd67d608a2>\u001b[0m in \u001b[0;36m<module>\u001b[0;34m\u001b[0m\n\u001b[0;32m----> 1\u001b[0;31m \u001b[0mt\u001b[0m\u001b[0;34m[\u001b[0m\u001b[0;36m0\u001b[0m\u001b[0;34m]\u001b[0m \u001b[0;34m=\u001b[0m \u001b[0;34m'NEW'\u001b[0m \u001b[0;31m# it is not possible to change it, so an error will occur!\u001b[0m\u001b[0;34m\u001b[0m\u001b[0;34m\u001b[0m\u001b[0m\n\u001b[0m",
      "\u001b[0;31mTypeError\u001b[0m: 'tuple' object does not support item assignment"
     ]
    }
   ],
   "source": [
    "t[0] = 'NEW' # it is not possible to change it, so an error will occur!"
   ]
  },
  {
   "cell_type": "markdown",
   "metadata": {
    "colab_type": "text",
    "id": "1s8Cwhm_MJhI"
   },
   "source": [
    "### Loops - **for**:"
   ]
  },
  {
   "cell_type": "code",
   "execution_count": 71,
   "metadata": {
    "colab": {},
    "colab_type": "code",
    "id": "gqjoo4oNMJhJ"
   },
   "outputs": [],
   "source": [
    "my_list = [1,2,3,4,5,\"hello\",'world'] # creating a new list with integers and strings"
   ]
  },
  {
   "cell_type": "code",
   "execution_count": 72,
   "metadata": {
    "colab": {
     "base_uri": "https://localhost:8080/",
     "height": 138
    },
    "colab_type": "code",
    "id": "2R0DenYKMJhL",
    "outputId": "2c6e2ee1-55e0-450c-dd8a-e8f4c0b8c599"
   },
   "outputs": [
    {
     "name": "stdout",
     "output_type": "stream",
     "text": [
      "1\n",
      "2\n",
      "3\n",
      "4\n",
      "5\n",
      "hello\n",
      "world\n"
     ]
    }
   ],
   "source": [
    "for item in my_list: # in this for loop, each item in the list is printed.\n",
    "    print(item)          "
   ]
  },
  {
   "cell_type": "code",
   "execution_count": 73,
   "metadata": {
    "colab": {
     "base_uri": "https://localhost:8080/",
     "height": 138
    },
    "colab_type": "code",
    "id": "UL9h8SwfMJhN",
    "outputId": "4bf69eff-5809-4611-8ad7-d3f32dda818d"
   },
   "outputs": [
    {
     "name": "stdout",
     "output_type": "stream",
     "text": [
      "Looping\n",
      "Looping\n",
      "Looping\n",
      "Looping\n",
      "Looping\n",
      "Looping\n",
      "Looping\n"
     ]
    }
   ],
   "source": [
    "for item in my_list: # in this for loop, for each recognized list item you are asked to print the word \"Looping\"\n",
    "    print('Looping')       "
   ]
  },
  {
   "cell_type": "code",
   "execution_count": 74,
   "metadata": {
    "colab": {
     "base_uri": "https://localhost:8080/",
     "height": 138
    },
    "colab_type": "code",
    "id": "Vf74xOtzMJhP",
    "outputId": "3db461c5-9fd7-49f9-9b57-5db8eedd7b5c"
   },
   "outputs": [
    {
     "name": "stdout",
     "output_type": "stream",
     "text": [
      "2\n",
      "4\n",
      "6\n",
      "8\n",
      "10\n",
      "hellohello\n",
      "worldworld\n"
     ]
    }
   ],
   "source": [
    "for i in my_list: #in this for loop, each element of the list is multiplied by 2. \n",
    "    print(2*i)        #It is important to realize the difference between the behavior of the operator with numbers and strings."
   ]
  },
  {
   "cell_type": "markdown",
   "metadata": {
    "colab_type": "text",
    "id": "7QfmmBNBMJhS"
   },
   "source": [
    "### Loops - **while**"
   ]
  },
  {
   "cell_type": "code",
   "execution_count": 75,
   "metadata": {
    "colab": {
     "base_uri": "https://localhost:8080/",
     "height": 86
    },
    "colab_type": "code",
    "id": "LiC2dgQ9MJhS",
    "outputId": "74fb2576-5630-4f31-ad22-2ce16b4b4f05"
   },
   "outputs": [
    {
     "name": "stdout",
     "output_type": "stream",
     "text": [
      "i is: 1\n",
      "i is: 2\n",
      "i is: 3\n",
      "i is: 4\n"
     ]
    }
   ],
   "source": [
    "i = 1\n",
    "while i < 5:                     #as long as the requested condition is true (i less than 5), the loop will be executed.\n",
    "    print('i is: {}'.format(i))  \n",
    "    i = i+1"
   ]
  },
  {
   "cell_type": "code",
   "execution_count": 76,
   "metadata": {
    "colab": {
     "base_uri": "https://localhost:8080/",
     "height": 87
    },
    "colab_type": "code",
    "id": "FIlL1ymcgtVI",
    "outputId": "aa75ddf7-b733-4496-bfbc-c9f835117939"
   },
   "outputs": [
    {
     "name": "stdout",
     "output_type": "stream",
     "text": [
      "i is: 3\n",
      "i is: 4\n",
      "i is: 5\n",
      "i is: 6\n"
     ]
    }
   ],
   "source": [
    "i = 3\n",
    "while i < 7:                     # as long as the condition is true (i less than 7), \n",
    "    print('i is: {}'.format(i))  # the loop will be executed. i is updated at the end of the loop\n",
    "    i = i+1                      "
   ]
  },
  {
   "cell_type": "markdown",
   "metadata": {
    "colab_type": "text",
    "id": "DyCaByo-MJhU"
   },
   "source": [
    "### **range()**"
   ]
  },
  {
   "cell_type": "code",
   "execution_count": 77,
   "metadata": {
    "colab": {
     "base_uri": "https://localhost:8080/",
     "height": 35
    },
    "colab_type": "code",
    "id": "BQ2ZagpZMJhV",
    "outputId": "c54460e4-05c8-450d-b4e3-d04ff3ab0802"
   },
   "outputs": [
    {
     "data": {
      "text/plain": [
       "range(0, 5)"
      ]
     },
     "execution_count": 77,
     "metadata": {},
     "output_type": "execute_result"
    }
   ],
   "source": [
    "range(0,5) #defines an intervalo"
   ]
  },
  {
   "cell_type": "code",
   "execution_count": 78,
   "metadata": {
    "colab": {
     "base_uri": "https://localhost:8080/",
     "height": 104
    },
    "colab_type": "code",
    "id": "1h4ehNTUMJhW",
    "outputId": "3f449690-e682-4d95-cb32-54c6e6cf2c3b"
   },
   "outputs": [
    {
     "name": "stdout",
     "output_type": "stream",
     "text": [
      "The number is: 0 \n",
      "The number is: 1 \n",
      "The number is: 2 \n",
      "The number is: 3 \n",
      "The number is: 4 \n"
     ]
    }
   ],
   "source": [
    "for i in range(0,5):       # defines that the loop will be executed while i is within the range\n",
    "    print(\"The number is: {} \".format(i))"
   ]
  },
  {
   "cell_type": "code",
   "execution_count": 79,
   "metadata": {
    "colab": {
     "base_uri": "https://localhost:8080/",
     "height": 35
    },
    "colab_type": "code",
    "id": "9wU_7ecFMJhY",
    "outputId": "cdf12f52-a987-4c21-f702-dcf3bca34602"
   },
   "outputs": [
    {
     "data": {
      "text/plain": [
       "[2, 3, 4, 5, 6]"
      ]
     },
     "execution_count": 79,
     "metadata": {},
     "output_type": "execute_result"
    }
   ],
   "source": [
    "list(range(2,7)) # turns the range into a list of values"
   ]
  },
  {
   "cell_type": "markdown",
   "metadata": {
    "colab_type": "text",
    "id": "InUGZvl7MJhd"
   },
   "source": [
    "### **List comprehension**"
   ]
  },
  {
   "cell_type": "code",
   "execution_count": 80,
   "metadata": {
    "colab": {},
    "colab_type": "code",
    "id": "OjjrLQfKMJhd"
   },
   "outputs": [],
   "source": [
    "x = [1,2,3,4] # creates a new list"
   ]
  },
  {
   "cell_type": "code",
   "execution_count": 81,
   "metadata": {
    "colab": {
     "base_uri": "https://localhost:8080/",
     "height": 35
    },
    "colab_type": "code",
    "id": "1shJxeUUMJhg",
    "outputId": "9125d045-cabd-417a-c243-1ef5b949f701"
   },
   "outputs": [
    {
     "name": "stdout",
     "output_type": "stream",
     "text": [
      "[1, 4, 9, 16]\n"
     ]
    }
   ],
   "source": [
    "out = []           # here a loop is created to raise the elements of list x to the power of 2.\n",
    "for item in x:     \n",
    "    out.append(item**2)\n",
    "print(out)"
   ]
  },
  {
   "cell_type": "code",
   "execution_count": 82,
   "metadata": {
    "colab": {
     "base_uri": "https://localhost:8080/",
     "height": 35
    },
    "colab_type": "code",
    "id": "8HKUDbqLMJhj",
    "outputId": "05930585-6546-4ceb-c57f-5f8e9a087fcb"
   },
   "outputs": [
    {
     "data": {
      "text/plain": [
       "[1, 4, 9, 16]"
      ]
     },
     "execution_count": 82,
     "metadata": {},
     "output_type": "execute_result"
    }
   ],
   "source": [
    "[item**2 for item in x] # here we have a pythonic way to accomplish the same task, with just one line of code\n",
    "                        "
   ]
  },
  {
   "cell_type": "markdown",
   "metadata": {
    "colab_type": "text",
    "id": "YfLOy6HzMJhm"
   },
   "source": [
    "### **Functions**\n",
    "\n"
   ]
  },
  {
   "cell_type": "code",
   "execution_count": 83,
   "metadata": {
    "colab": {},
    "colab_type": "code",
    "id": "pZtSMKunMJhm"
   },
   "outputs": [],
   "source": [
    "def my_func(phrase): #def is the word used to create the function. After that, \n",
    "  print(phrase)      #the function name comes and the parameters come inside the parenthesis. \n",
    "                     #In this case, we create a function that will print the sentence we want.\n",
    "    "
   ]
  },
  {
   "cell_type": "code",
   "execution_count": 84,
   "metadata": {
    "colab": {
     "base_uri": "https://localhost:8080/",
     "height": 35
    },
    "colab_type": "code",
    "id": "kgrLpWH3MJhp",
    "outputId": "3a17bf69-e729-46f7-e871-71e7943e7038"
   },
   "outputs": [
    {
     "name": "stdout",
     "output_type": "stream",
     "text": [
      "Hello World\n"
     ]
    }
   ],
   "source": [
    "my_func(\"Hello World\") #The phrase is \"Hello World\""
   ]
  },
  {
   "cell_type": "code",
   "execution_count": 85,
   "metadata": {
    "colab": {
     "base_uri": "https://localhost:8080/",
     "height": 35
    },
    "colab_type": "code",
    "id": "Qujaq-SJMJhu",
    "outputId": "5b305ea7-b019-4a29-82ae-f3f5cf75aa15"
   },
   "outputs": [
    {
     "name": "stdout",
     "output_type": "stream",
     "text": [
      "I'm in the Data Science Bootcamp\n"
     ]
    }
   ],
   "source": [
    "my_func(\"I'm in the Data Science Bootcamp\") #With another phrase"
   ]
  },
  {
   "cell_type": "code",
   "execution_count": 86,
   "metadata": {
    "colab": {},
    "colab_type": "code",
    "id": "tKuU_oIIMJh3"
   },
   "outputs": [],
   "source": [
    "def multiply_by_2(x): #In this case, we create a function that multiplies by 2.\n",
    "    return x*2"
   ]
  },
  {
   "cell_type": "code",
   "execution_count": 87,
   "metadata": {
    "colab": {},
    "colab_type": "code",
    "id": "k1USI3KdMJh5"
   },
   "outputs": [],
   "source": [
    "result = multiply_by_2(5) # Applying the function to a number"
   ]
  },
  {
   "cell_type": "code",
   "execution_count": 88,
   "metadata": {
    "colab": {
     "base_uri": "https://localhost:8080/",
     "height": 35
    },
    "colab_type": "code",
    "id": "JQbCyIK6MJh6",
    "outputId": "6331b78c-b15d-41a9-a696-b7680670c28f",
    "scrolled": true
   },
   "outputs": [
    {
     "data": {
      "text/plain": [
       "10"
      ]
     },
     "execution_count": 88,
     "metadata": {},
     "output_type": "execute_result"
    }
   ],
   "source": [
    "result"
   ]
  },
  {
   "cell_type": "code",
   "execution_count": 89,
   "metadata": {
    "colab": {
     "base_uri": "https://localhost:8080/",
     "height": 35
    },
    "colab_type": "code",
    "id": "GY7dVEYOfYj4",
    "outputId": "a81d8351-6f0d-4c02-f568-1c51fbb77f30"
   },
   "outputs": [
    {
     "data": {
      "text/plain": [
       "'Hi Hi '"
      ]
     },
     "execution_count": 89,
     "metadata": {},
     "output_type": "execute_result"
    }
   ],
   "source": [
    "word_2 = multiply_by_2('Hi ') # It can be applied with strings too, but the behavior is different.\n",
    "word_2"
   ]
  },
  {
   "cell_type": "code",
   "execution_count": 90,
   "metadata": {
    "colab": {},
    "colab_type": "code",
    "id": "5Qp5VYKlfYry"
   },
   "outputs": [],
   "source": [
    "def complex_function(x,y,z): #x,y,z are parameters\n",
    "  s = x+y+z                   # the function creates the s variable\n",
    "  m = x*y*z                   # the function creates the m variable\n",
    "  print(\"The sum of x, y and z is: \", s)           # the function prints the results\n",
    "  print(\"The multiplication of x, y and z is: \", m)\n"
   ]
  },
  {
   "cell_type": "code",
   "execution_count": 91,
   "metadata": {
    "colab": {
     "base_uri": "https://localhost:8080/",
     "height": 52
    },
    "colab_type": "code",
    "id": "Fh74C_BafYpL",
    "outputId": "20f118fe-8d13-45b6-b79a-a6624c0460d9"
   },
   "outputs": [
    {
     "name": "stdout",
     "output_type": "stream",
     "text": [
      "The sum of x, y and z is:  10\n",
      "The multiplication of x, y and z is:  30\n"
     ]
    }
   ],
   "source": [
    "complex_function(5,2,3)"
   ]
  },
  {
   "cell_type": "markdown",
   "metadata": {
    "colab_type": "text",
    "id": "c0bcuBGIuzeU"
   },
   "source": [
    "### **Classes and functions**\n",
    "\n"
   ]
  },
  {
   "cell_type": "code",
   "execution_count": 92,
   "metadata": {
    "colab": {},
    "colab_type": "code",
    "id": "CPFWiTrJuwcy"
   },
   "outputs": [],
   "source": [
    "class Person: #creates the class\n",
    "  def __init__(self,name,age,profession): #initiates the class\n",
    "    self.name=name    #defines atributes\n",
    "    self.age=age\n",
    "    self.profession=profession\n",
    "\n",
    "  def historic(self): #creates a method, a function designated specifically to the class created\n",
    "    print(\"The object {} us {} years old and is a {}!\".format(self.name,self.age,self.profession))"
   ]
  },
  {
   "cell_type": "code",
   "execution_count": 93,
   "metadata": {
    "colab": {},
    "colab_type": "code",
    "id": "1hRqo5Lbvwiz"
   },
   "outputs": [],
   "source": [
    "soccer_player = Person(\"John\",150,\"soccer_player\")          #creates an instance of the Person class\n",
    "journalist = Person(\"Mary\",235,\"journalist\")"
   ]
  },
  {
   "cell_type": "code",
   "execution_count": 94,
   "metadata": {
    "colab": {
     "base_uri": "https://localhost:8080/",
     "height": 35
    },
    "colab_type": "code",
    "id": "wndYTsjwwBTM",
    "outputId": "2ff04db8-cca4-4b99-e410-8626d5b8fc77"
   },
   "outputs": [
    {
     "data": {
      "text/plain": [
       "150"
      ]
     },
     "execution_count": 94,
     "metadata": {},
     "output_type": "execute_result"
    }
   ],
   "source": [
    "soccer_player.age #shows one of the atributes"
   ]
  },
  {
   "cell_type": "code",
   "execution_count": 95,
   "metadata": {
    "colab": {
     "base_uri": "https://localhost:8080/",
     "height": 35
    },
    "colab_type": "code",
    "id": "LbwlYgYawbY-",
    "outputId": "915f0804-756c-4cb2-92ca-8b80b3a47ece"
   },
   "outputs": [
    {
     "name": "stdout",
     "output_type": "stream",
     "text": [
      "The object John us 150 years old and is a soccer_player!\n"
     ]
    }
   ],
   "source": [
    "soccer_player.historic() #applies the created method to one of the instances"
   ]
  },
  {
   "cell_type": "code",
   "execution_count": 96,
   "metadata": {
    "colab": {
     "base_uri": "https://localhost:8080/",
     "height": 35
    },
    "colab_type": "code",
    "id": "w77NmnrPw-O2",
    "outputId": "b6fe6936-6767-421a-89d4-f7a70d4bd021"
   },
   "outputs": [
    {
     "name": "stdout",
     "output_type": "stream",
     "text": [
      "The object Mary us 235 years old and is a journalist!\n"
     ]
    }
   ],
   "source": [
    "journalist.historic() #applies the created method to one of the instances"
   ]
  },
  {
   "cell_type": "markdown",
   "metadata": {
    "colab_type": "text",
    "id": "tBZ_r3laMJjC"
   },
   "source": [
    "![](https://i.imgur.com/YX6UATs.png)"
   ]
  }
 ],
 "metadata": {
  "colab": {
   "collapsed_sections": [],
   "name": " Python Cheat Notebook.ipynb",
   "provenance": []
  },
  "kernelspec": {
   "display_name": "Python 3",
   "language": "python",
   "name": "python3"
  },
  "language_info": {
   "codemirror_mode": {
    "name": "ipython",
    "version": 3
   },
   "file_extension": ".py",
   "mimetype": "text/x-python",
   "name": "python",
   "nbconvert_exporter": "python",
   "pygments_lexer": "ipython3",
   "version": "3.7.6"
  }
 },
 "nbformat": 4,
 "nbformat_minor": 1
}
